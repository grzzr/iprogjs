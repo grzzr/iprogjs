{
   "cells": [
      {
         "cell_type": "markdown",
         "metadata": {},
         "source": [
            "# Começando\n",
            "\n",
            "Você vai aprender a:\n",
            "\n",
            "- Mudar o tamanho e a cor de fundo do Canvas\n",
            "- Desenhar, personalizar e colorir formas e textos\n",
            "- Usar recursos simples de interatividade usando a posição do ponteiro do mouse\n",
            "- Comentar código\n",
            "- Usar a documentação do Processing e P5.js"
         ]
      },
      {
         "cell_type": "markdown",
         "metadata": {},
         "source": [
            "## Código padrão\n",
            "\n",
            "\n",
            "Cada programa Javascrito escrito a biblioteca Processing é chamado de `Sketch`, que significa `Rascunho`.\n",
            "\n",
            "Quando usamos o [editor do P5.JS](https://editor.p5js.org) para programar, o código padrão que inicia todos os sketches é este:"
         ]
      },
      {
         "cell_type": "code",
         "execution_count": null,
         "metadata": {
            "trusted": true
         },
         "outputs": [],
         "source": [
            "function setup() {\n",
            "    createCanvas(400, 400);\n",
            "}\n",
            "function draw() {\n",
            "    background(64,64,255);\n",
            "}"
         ]
      },
      {
         "cell_type": "markdown",
         "metadata": {},
         "source": [
            "Para rodar o esse programa aqui no notebook fazemos assim:\n",
            "\n",
            "1. teclamos `ctrl` + `enter` na célula que contém o código para executá-lo\n",
            "2. escrevemos `%show` em uma célula em vazia e executamos a celula para exibir o resultado na página\n",
            "\n",
            "Experimente fazer isso com a célula acima, que contém o código, com a célula abaixo, que contém o comando `%show`. Você deve ver um quadrado de `400x400` pixels de tamanho e colorido de azul."
         ]
      },
      {
         "cell_type": "code",
         "execution_count": null,
         "metadata": {},
         "outputs": [],
         "source": [
            "%show"
         ]
      }
   ],
   "metadata": {
      "kernelspec": {
         "display_name": "p5.js",
         "language": "javascript",
         "name": "p5js"
      },
      "language_info": {
         "codemirror_mode": {
            "name": "javascript"
         },
         "file_extension": ".js",
         "mimetype": "text/javascript",
         "name": "p5js",
         "nbconvert_exporter": "javascript",
         "pygments_lexer": "javascript",
         "version": "es2017"
      }
   },
   "nbformat": 4,
   "nbformat_minor": 4
}
