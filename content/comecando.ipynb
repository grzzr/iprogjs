{
   "cells": [
      {
         "cell_type": "markdown",
         "metadata": {},
         "source": [
            "# Começando\n",
            "\n",
            "Você vai aprender a:\n",
            "\n",
            "- Mudar o tamanho e a cor de fundo do Canvas\n",
            "- Desenhar, personalizar e colorir formas e textos\n",
            "- Usar recursos simples de interatividade usando a posição do ponteiro do mouse\n",
            "- Comentar código\n",
            "- Usar a documentação do Processing e P5.js"
         ]
      },
      {
         "cell_type": "markdown",
         "metadata": {},
         "source": [
            "## Código padrão\n",
            "\n",
            "\n",
            "Cada programa Javascrito escrito a biblioteca Processing é chamado de `Sketch`, que significa `Rascunho`.\n",
            "\n",
            "Quando usamos o [editor do P5.JS](https://editor.p5js.org) para programar, o código padrão que inicia todos os sketches é este:"
         ]
      },
      {
         "cell_type": "code",
         "execution_count": null,
         "metadata": {
            "trusted": true
         },
         "outputs": [],
         "source": [
            "function setup() {\n",
            "    createCanvas(400, 400);\n",
            "}\n",
            "function draw() {\n",
            "    background(64,64,255);\n",
            "}"
         ]
      },
      {
         "cell_type": "markdown",
         "metadata": {},
         "source": [
            "Para rodar o esse programa aqui no notebook fazemos assim:\n",
            "\n",
            "1. teclamos `ctrl` + `enter` na célula que contém o código para executá-lo\n",
            "2. escrevemos `%show` em uma célula em vazia e executamos a celula para exibir o resultado na página\n",
            "\n",
            "Experimente fazer isso com a célula acima, que contém o código, com a célula abaixo, que contém o comando `%show`. Você deve ver um quadrado de `400x400` pixels de tamanho e colorido de azul."
         ]
      },
      {
         "cell_type": "code",
         "execution_count": null,
         "metadata": {},
         "outputs": [],
         "source": [
            "%show"
         ]
      },
      {
         "cell_type": "markdown",
         "metadata": {},
         "source": [
            "## Mudar o tamanho do Canvas\n",
            "\n",
            "O `Canvas` é o local onde você vai desenhar. O tamanho dele é dado em pixels e ele é sempre retangular.\n",
            "\n",
            "Para mudar o tamanho do canvas mude os valores dos parâmetros da função `createcanvas(largura, altura)`.\n",
            "\n",
            "- `largura` = largura em pixels do Canvas\n",
            "- `algura` = altura em pixels do Canvas\n",
            "\n",
            "Exemplo:\n",
            "\n",
            "```js\n",
            "createCanvas(600,400)\n",
            "```\n",
            "\n",
            "A chamada de função acima cria um `Canvas` de 600 pixels de largura por 400 pixels de altura."
         ]
      },
      {
         "cell_type": "markdown",
         "metadata": {},
         "source": [
            "## Mudar a cor de fundo do Canvas\n",
            "\n",
            "Para mudar a cor de fund do Canvas chamamos a função `background()` passando como parâmetro para ela a `cor` que queremos. \n",
            "\n",
            "A cor pode ser definida como:\n",
            "\n",
            "- um valor entre 0 e 255: escala de cinzas, onde 0 = preto; 255 = branco; cinza médio = 127; etc..\n",
            "- tres números (entre 0 e 255) representando uma mistura das cores Vermelho, Verde e Azul (RGB)\n",
            "- o mesmo valor RGB porém representado em hexadecimal, precedido por `#`: #FF00FF, #AA33CD, etc..\n",
            "\n",
            "Exemplo, para mudar a cor do azul para `azul celeste` mude os valores de `background()` para `135, 206, 235`. Assim:"
         ]
      },
      {
         "cell_type": "code",
         "execution_count": null,
         "metadata": {},
         "outputs": [],
         "source": [
            "function setup() {\n",
            "    createCanvas(400, 400);\n",
            "}\n",
            "function draw() {\n",
            "    background(135, 206, 235);\n",
            "}"
         ]
      },
      {
         "cell_type": "code",
         "execution_count": null,
         "metadata": {},
         "outputs": [],
         "source": [
            "%show"
         ]
      }
   ],
   "metadata": {
      "kernelspec": {
         "display_name": "p5.js",
         "language": "javascript",
         "name": "p5js"
      },
      "language_info": {
         "codemirror_mode": {
            "name": "javascript"
         },
         "file_extension": ".js",
         "mimetype": "text/javascript",
         "name": "p5js",
         "nbconvert_exporter": "javascript",
         "pygments_lexer": "javascript",
         "version": "es2017"
      }
   },
   "nbformat": 4,
   "nbformat_minor": 4
}
