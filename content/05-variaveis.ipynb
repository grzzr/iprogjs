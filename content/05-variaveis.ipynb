{
  "metadata": {
    "kernelspec": {
      "name": "javascript",
      "display_name": "JavaScript (Web Worker)",
      "language": "javascript"
    },
    "language_info": {
      "codemirror_mode": {
        "name": "javascript"
      },
      "file_extension": ".js",
      "mimetype": "text/javascript",
      "name": "javascript",
      "nbconvert_exporter": "javascript",
      "pygments_lexer": "javascript",
      "version": "es2017"
    }
  },
  "nbformat_minor": 4,
  "nbformat": 4,
  "cells": [
    {
      "cell_type": "markdown",
      "source": "# ![Robô](../img/robof-64px.png) Variáveis\nVamos fazer dois experimentos com base no poema \"SOL TO\" de Arnaldo Antunes, que está na imagem abaixo. O objetivo é identificarmos uma situação-problema que justificará o uso de variáveis no programa.\n\n![SOL TO](../img/SOL_TO.jpg)\n\n[https://arnaldoantunes.blogspot.com/2010/08/sol-to.html\n](https://arnaldoantunes.blogspot.com/2010/08/sol-to.html\n)\n\nPodemos fazer um programa que recria o poema da seguinte maneira:\n\n```js\nconsole.log('S*L')\nconsole.log('T*')\nconsole.log('D*')\nconsole.log('S*L')\nconsole.log(' *')\n```\n\n> ![Mago](../img/mago-64px.png) Experimento:\n> \n> Modifique o programa para que no lugar de um '*' seja impresso um '#'.",
      "metadata": {}
    },
    {
      "cell_type": "code",
      "source": "",
      "metadata": {
        "trusted": true
      },
      "outputs": [],
      "execution_count": null
    },
    {
      "cell_type": "markdown",
      "source": "Nesse experimento simples, podemos identificar alguns problemas que podem ser resolvidos usando variáveis.\n\nNote que você teve que mudar o valor linha por linha, colocando em cada uma o mesmo caractere \"#\", repetidamente. E, possivelmente, você digitou alguma vez, por engano, um outro caractere ao invés de |\"#\" e teve que corrigir a digitação.\n\nOs problemas, então, são:\n\n1. Muito código repetido\n2. Dificuldade de modificar o código quando o mesmo valor aparece em várias linhas\n3. Muitas chances de cometer erros de digitação\n\nVamos ver como usar uma variável em Javascript e vamos reescrever o programa para que ele fique mais fácil de ler, de modificar e com menor chance de acontecerem erros.",
      "metadata": {}
    },
    {
      "cell_type": "markdown",
      "source": "## ![Robô](../img/robof-64px.png) Definição\n\n> *Uma variável é um `nome` que damos a um objeto manipulável programaticamente por uma linguagem de programação.*\n\nNa maioria das linguagens de programação esses objetos são:\n\n- números\n- caracteres\n- valores verdadeiro/falso (booleanos)\n- funções\n- diversas estruturas de dados (listas, conjutos, vetores...)\n- objetos (uma estrutura que agrega dados com funções que manipulam esses dados)\n\nEm Javascript podemos criar variáveis para todos esses.\n\nEm outras linguagens pode não ser assim. Talvez as variáveis possam ser criadas somente para números e caracteres, ou somente para funções ou somente para objetos... ou para todas essas coisas e outras além dessas.\n\n## ![Robô](../img/robof-64px.png) Declaração\n\nA criação de uma variável é chamada de `declaração`. O processo consiste em:\n\n- escolher um nome\n- decidir se o objeto que vamos associar a esse nome poderá mudar ao longo da execução do programa ou se ele permanecerá constante\n- atribuir o nome ao objeto\n\nExemplos:\n\nDeclaração de uma variável chamada `x` que pode ter seu valor alterado e com valor inicial igual ao número `10`.\n\n```js\nlet x = 10\n```\n\nDeclaração de uma variável chamada `nomeDoCurso`, que pode ser alterada e que inicialmente contém a string `Introdução à programação`\n\n```js\nlet nomeDoCurso = 'Introdução à programação'\n```\n\nDeclaração de uma variável chamada `a`, com valor constante igual a 2.5.\n```js\nconst a = 2.5\n```\n\nÉ possível declarar uma variável sem inicializá-la com um valor, mas só se ela não for constante.\n\nExemplo:\n\n```js\nlet nome\n```\n\nMais adiante no programa seria possível atribuir um valor a essa variável. Assim:\n\n```js\nnome = 'Gustavo'\n```\nIsso é permitido, mas a linha abaixo não é:\n\n```js\nconst idade //não é permitido porque é uma constante\n```\n\n## ![Mago](../img/mago-64px.png) Uso de variáveis no programa\n\nDepois de criadas, as variáveis podem ser usadas no programa em qualquer lugar onde seus valores precisem ser usados.\n\nA variável nome, por exemplo:\n\n```js\nconsole.log('Oi, ' + nome)\n```\n\nEssa linha de código é equivalente à concatenação de duas strings:\n\n```js\n'Oi' + 'Gustavo'\n```\n\nA segunda string no código acima vem do conteúdo da variável nome.\n\nCaso mudássemos o valor da variável `nome` para `prof.`...\n\n```js\nnome = 'prof.'\nconsole.log('Oi, ' + nome)\n```\n\n...o trecho de código acima imprimirira:\n\n```\nOi, prof.\n```\n\n## Tipo dos dados\n\nO código abaixo usa três variáveis:\n\n```js\nconst nome = 'Gustavo'\nconst idade = '45'\nconst email = 'grz@oooi.xyz'\n```\n\nAgora vamos supor que queremos e calcular o ano de nascimento a partir do valor da variável `idade`.\n\nPara isso, vamos subtrair o valor da idade do valor do ano atual. Então:\n\n1. precisamos do valor do ano atual\n\n```js\nconst ano = `2024`\n```\n\n2. fazer a subtração dos valores:\n\n```js\nano - idade\n```\n\n## ![Mago](../img/mago-64px.png) Variáveis auxiliares\n\nVamos corrigir o programa e considerar nossas alternativas.\n\n```js\nconst ano = 2023\nconst nome = 'Gustavo'\nconst idade =  45\nconst email = 'grz@oooi.xyz'\n\nano - idade\n```\nAgora, `ano` e `idade` referem-se a números. Com números podemos fazer operações matemáticas, diferente de strings.\n\nNessa versão do programa, uma possibilidade que temos de imprimir o resultado é passar a expressão `ano - idade` como parâmetro para `console.log()`\n\n```js\nconsole.log(ano - idade)\n```\n\n> Observe que é possível fazer a subtração de duas variáveis constantes porque isso não altera o valor das variáveis. O operador `-` *cria um novo valor* a partir dos seus operandos.\n\nOutra possibilidade é imprimir junto uma mensagem dizendo que valor é esse:\n\n```js\nconsole.log(`Ano de nascimento: ${ano - idade}`)\n```\n\nPorém, há uma outra forma, mais elegante e mais clara, que seria criar uma `variável auxiliar` para: \n\n- primeiro, armazenar o resultado da operação\n- depois, usar essa variável na operação final, que mostra a resposta\n\n```js\nconst anoDeNascimento = ano - idade\n\nconsole.log(`Ano de nascimento: ${anoDeNascimento}`)\n```\n\nIsso não nos poupa digitação. Esse não é o objetivo dessa técnica.\n\n> O objetivo de criarmos uma variável auxiliar é o de facilitar a utilização de resultados parciais de operações.\n\nO programa completo agora fica assim:\n\n```js\nconst ano = 2023\nconst nome = 'Gustavo'\nconst idade =  45\nconst email = 'grz@oooi.xyz'\n\nconst anoDeNascimento = ano - idade\n\nconsole.log(`Ano de nascimento: ${anoDeNascimento}`)\n```",
      "metadata": {}
    }
  ]
}