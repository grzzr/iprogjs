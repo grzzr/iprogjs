{
  "metadata": {
    "kernelspec": {
      "name": "p5js",
      "display_name": "p5.js",
      "language": "javascript"
    },
    "language_info": {
      "codemirror_mode": {
        "name": "javascript"
      },
      "file_extension": ".js",
      "mimetype": "text/javascript",
      "name": "p5js",
      "nbconvert_exporter": "javascript",
      "pygments_lexer": "javascript",
      "version": "es2017"
    }
  },
  "nbformat_minor": 4,
  "nbformat": 4,
  "cells": [
    {
      "cell_type": "markdown",
      "source": "# ![Robô](../img/robof-64px.png) Lab - Primeiro Programa \n\n\nEste é um pequeno programa de computador escrito em Javascript.\n\nTarefa: \n\n1. Digite o programa na caixa de texto abaixo tomando cuidado para não cometer erros de digitação.\n1. Execute o programa. Para isso, clique na caixa de texto com o programa e tecle `ctrl+ENTER`.\n\n```js\nfunction dizOi() {\n    console.log('Oi, oi, oi!!!')\n}\n\ndizOi()\n```",
      "metadata": {}
    },
    {
      "cell_type": "code",
      "source": "function dizOi() {\n    console.log('Oi, oi, oi!!!')\n}\n\ndizOi()",
      "metadata": {
        "trusted": true
      },
      "outputs": [],
      "execution_count": null
    },
    {
      "cell_type": "markdown",
      "source": "Confira se o resultado foi \n\n```\nOi, oi, oi!!!\n```\n\n# Observações\n\n1. O texto foi exibido sem as aspas.\n1. O código fonte é uma coisa e o resultado da execução dele é outra.  \n    - O código fonte é o que dizemos ao computador para fazer.\n    - O resultado é o que o computador fez\n\n> Nem todos os resultados aparecem na tela. **Muitas coisas acontecem apenas dentro de computador e ficam invisíveis para quem usa o programa**. Vamos experimentar isso no próximo lab.\n\n# Explicação do código\n\nUm programa é uma função. Uma função contém instruções para o computador escritas em código. Cada função é um trecho de código que pode ser executado quando quisermos. \n\n1. A palavra `function` é usada para dizer que a palavra escrita depois dela será usada como nome de uma nova função. \n\n    ```js\n        function dizOi()\n    ```\n\n2. Essa função contém apenas uma linha de código (o que está escrito entre chaves `{`, `}`). Nela estamos pedindo ao console que registre uma mensagem. O conteúdo da mensagem é *'Oi, oi, oi!!!'*.\n\n    ``` js\n    console.log('Oi, oi, oi!!!')\n    ```\n\n    - **log** é o nome (em inglês) de uma ação, que significa “registrar uma mensagem” sobre a execução de um programa ou de uma tarefa.\n    \n    - **console** é o lugar onde digitamos comandos para o computador e onde recebemos as respostas, mensagens de texto enviadas pelo programa.\n    \n    - O sinal de ponto (**.**) que está entre console e log() significa que a ação log() deve ser executada pelo console, ou seja, ele é que deve registrar a mensagem.\n\n3. A última linha diz ao computador que queremos executar o código da função chamada `dizOi`.\n\n    ```js\n    dizOi()\n    \n    // observe os parênteses\n    ```\n    \n    Usamos parenteses após o nome. Sem eles a função não é executada.\n\n---\n# ![Mago](../img/mago-64px.png) Experimento - Alterar o programa\n\n## 1. Mudar a mensagem.\n\nPara mudar a mensagem, troque o texto que está entre aspas. Por exemplo:\n\n``` js\nconsole.log('Bom dia!')\n```\n\n> Faça isso na caixa abaixo e lembre de rodar o programa teclando `ctrl+ENTER`",
      "metadata": {}
    },
    {
      "cell_type": "code",
      "source": "",
      "metadata": {
        "trusted": true
      },
      "outputs": [],
      "execution_count": null
    },
    {
      "cell_type": "markdown",
      "source": "## 2. O que acontece se o texto da mensagem estiver vazio?\n\nExperimente escrever uma linha de código igual a anterior mas deixando o texto entre aspas vazio para ver o que acontece.",
      "metadata": {}
    },
    {
      "cell_type": "code",
      "source": "",
      "metadata": {
        "trusted": true
      },
      "outputs": [],
      "execution_count": null
    },
    {
      "cell_type": "markdown",
      "source": "## 3. Escrever mais de uma linha de código.\n\nEscreva várias linhas como a anterior. Coloque cada linha de código em uma linha do programa. Por exemplo:\n\n``` js\nconsole.log('Oi, oi, oi!')\nconsole.log('Bom dia!')\nconsole.log('')\nconsole.log('Que tal é programar?')\n```",
      "metadata": {}
    },
    {
      "cell_type": "code",
      "source": "",
      "metadata": {
        "trusted": true
      },
      "outputs": [],
      "execution_count": null
    },
    {
      "cell_type": "markdown",
      "source": "# Primeiro programa gráfico\n\n\nEste é um pequeno programa de computador escrito em Javascript.\n\n```js\nfunction setup() {  \n  createCanvas(600, 400)\n}\n\nfunction draw() {\n  circle(300,200,100)\n}\n```\n\nTarefa: \n\n1. Digite o programa na caixa de texto abaixo tomando cuidado para não cometer erros de digitação.\n1. Execute o programa. Para isso, clique na caixa de texto com o programa e tecle `ctrl+ENTER`.\n1. Veja o resultado teclando novamente `ctrl+ENTER` mas na caixa de texto com que contém o comando `%show`.\n\n### Observação importante:\n> Não é necessário chamar essas funções como no exemplo anterior. O comando `%show` fará isso automáticamente.",
      "metadata": {}
    },
    {
      "cell_type": "code",
      "source": "",
      "metadata": {
        "trusted": true
      },
      "outputs": [],
      "execution_count": null
    },
    {
      "cell_type": "code",
      "source": "%show",
      "metadata": {
        "trusted": true
      },
      "outputs": [],
      "execution_count": null
    },
    {
      "cell_type": "markdown",
      "source": "## O que o programa está fazendo?\n\nÉ mais fácil supor o que está acontecendo nesse programa se entendermos inglês, porque as palavras usadas no programa (`function`, `setup`, `createCanvas`, `draw`, `background`) dão boas dicas sobre o que o programa faz.\n\n\n**Resumidamente:**\n\nO programa tem duas funções: `setup` e `draw`\n\n- `setup` contém instruções que preparam o programa para rodar\n- `draw` contém instruções para desenhar na tela\n\n- `createCanvas(600, 400)` - cria uma tela de desenho de 600 pixels de largura por 400 pixels de altura\n- `circle(300,200,100)` - desenha um circulo na posição `x=300`, `y=200` e com `tamanho=100 pixels`\n",
      "metadata": {}
    },
    {
      "cell_type": "markdown",
      "source": "### Características de um programa (até aqui)\n\nObserve que não importa que o resultado do programa seja textual ou gráfico, em qualquer caso ele tem as seguintes características:\n\n- O programa é um texto\n- Contém instruções para o computador realizar tarefas (criar coisas, escrever, desenhar, colorir, etc...)\n- São usadas funções para agrupar conjuntos de instruções para o computador\n- Um programa é executado quando 'chamamos' suas funções",
      "metadata": {}
    }
  ]
}