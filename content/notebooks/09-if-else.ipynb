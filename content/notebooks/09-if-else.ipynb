{
  "metadata": {
    "kernelspec": {
      "name": "javascript",
      "display_name": "JavaScript (Web Worker)",
      "language": "javascript"
    },
    "language_info": {
      "codemirror_mode": {
        "name": "javascript"
      },
      "file_extension": ".js",
      "mimetype": "text/javascript",
      "name": "javascript",
      "nbconvert_exporter": "javascript",
      "pygments_lexer": "javascript",
      "version": "es2017"
    }
  },
  "nbformat_minor": 4,
  "nbformat": 4,
  "cells": [
    {
      "cell_type": "markdown",
      "source": "[Índice](README.md)\n\n# ![Robô](../img/robof-64px.png) Desvios condicionais - if, if-else\n\nJá vimos o operador condicional do Javascript (o único operador ternário da linguagem) que nos permite testar o valor de verdade de uma **condição** e retornar um valor **x** se a condição for verdadeira e um valor **y** se ela for falsa.\n\nAs estruturas sintáticas `if`, `if-else` e `switch-case` podem fazer o mesmo e muito mais.\n\n\n> Nos exemplos abaixo vamos supor que existe um objeto `login` que contém os dados de login de um usuário de um sistema hipotético e que esse objeto tem um método chamado `valido()` que retorna `true` caso o login seja válido ou `false` caso contrário.\n\nExemplo de uso do `operador condicional`.\n\n```js\nconst mensagem = login.valido() ? 'Olá!' : 'Quem é você?'\n\nconsole.log(mensagem)\n```\n\nO mesmo pode ser escrito com `if`\n\n```js\nlet mensagem = 'Quem é você'\n\nif(login.valido()) {\n    mensagem = `Olá!'\n}\n\nconsole.log(mensagem)\n```\n\nOu pode ser escrito com `if-else`\n\n```js\nlet mensagem\n\nif(login.valido()) {\n    mensagem = 'Olá!'\n} else {\n    mensagem = 'Quem é você?'\n}\n\nconsole.log(mensagem)\n```\n\nPodemos transformar esses trechos de código em funções para facilitar seu uso em um programa mais extenso.\n\n- Usando `operador condicional`\n\n    ```js\n    function mensagemDeLogin(login) {\n        return login.valido() ? 'Olá!' : 'Quem é você?'\n    }\n\n    console.log(mensagemLogin(umLogin))\n    ```\n- Usando `if`\n\n    ```js\n    function mensagemDeLogin(login) {\n        if(login.valido()) {\n            return 'Olá!'\n        }\n        return 'Quem é você?'\n    }\n\n    console.log(mensagemLogin(umLogin))\n    ```\n\n- Usando `if-else`\n    ```js\n    function mensagemDeLogin(login) {\n        if(login.valido()) {\n            return 'Olá!'\n        } else {\n            return 'Quem é você'\n        }\n    }\n    \n    console.log(mensagemLogin(umLogin))\n    ```\n\nPara esse tipo de `teste condicional` o operador condicional é mais conciso. Como esse tipo de teste é bastante comum, o operador condicional acaba sendo muito usado.\n\n## ![Maguinho](../img/mago-64px.png) Quando usar if, if-else\n\nAs estruturas `if` e `if-else` permitem o uso de blocos de código, enquanto o operador condicional `? :` só permite expressões.\n\nPor isso, se o código que precisamos executar não é uma simples expressão ou um simples valor a ser retornado, se precisarmos executar várias linhas de código em função do valor de verdade que está sendo testado, então precisamos usar `if`, `if-else`, porque eles permitem o uso de blocos de código.\n\nPor exemplo, vamos supor que a mensagem de login devesse ser atribuída ao próprio objeto `login` após o teste `login.valido()` e depois retornada. Essas seriam 2 operações e precisariam ser escritas em um bloco de código. Assim:\n\n```js\nfunction mensagemLogin(login) {\n    if(login.valido()) {\n        login.setMensagem('Olá!')\n        return login.getMensagem()\n    } else {\n        login.setMensgem('Quem é você?')\n        return login.getMensagem()\n    }\n}\n```",
      "metadata": {}
    }
  ]
}