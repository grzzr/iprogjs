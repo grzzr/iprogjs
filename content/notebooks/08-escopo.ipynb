{
  "metadata": {
    "kernelspec": {
      "name": "javascript",
      "display_name": "JavaScript (Web Worker)",
      "language": "javascript"
    },
    "language_info": {
      "codemirror_mode": {
        "name": "javascript"
      },
      "file_extension": ".js",
      "mimetype": "text/javascript",
      "name": "javascript",
      "nbconvert_exporter": "javascript",
      "pygments_lexer": "javascript",
      "version": "es2017"
    }
  },
  "nbformat_minor": 4,
  "nbformat": 4,
  "cells": [
    {
      "cell_type": "markdown",
      "source": "# ![Robô](../img/robof-64px.png) Blocos de código e escopo de variáveis\n\nEm Javascript um `bloco` é uma declaração escrita entre chaves `{ }` que tem por objetivo agrupar linhas de código.\n\nFormato:\n\n```js\n{\n    linha 1;\n    linha 2;\n    linha 3;\n    .\n    .\n    .\n}\n```\n\nBlocos servem para manipularmos em conjunto várias linhas de código.\n\nPor exemplo, para:\n- criar trechos de código que serão executados em `loop`\ntrechos de código que serão `executados condicionalmente` - apenas se uma certa condição for satisfeita\n- declaração do `corpo de uma função`\n\n## ![Maguinho](../img/mago-64px.png) Visibilidade (escopo)\n\nBlocos alteram a `visibilidade` das variáveis no código.\n\n> `escopo` vem do grego, *skopeo* (procurar) e do latim, *scopere* (ver). É a mesma raíz de palavras como `telescopio`.\n\nExemplo 1:\n\n```js\nlet x = 10;\n\n{\n   let x = 20;\n   console.log(`x dentro do bloco = ${x}`);\n}\n\nconsole.log(`x fora do bloco = ${x}`);\n```\n\nNesse programa a variável `x` **não é a mesma** fora e dentro do bloco. São duas declarações de duas variáveis que tem o mesmo nome.\n\nExemplo 2:\n\n```js\nlet x = 10;\n\n{\n   let x = 20;\n   console.log(`x dentro do bloco = ${x}`);\n   let y = 30;\n   console.log(`y dentro do bloco = ${y}`);\n}\n\nconsole.log(`x fora do bloco = ${x}`);\nconsole.log(`y fora do bloco = ${y}`);\n```\n\nEsse segundo programa dá um erro. Na última linha tentamos usar `y` mas o interpretador diz que `y` não está definido. \n\nIsso aconteceu porque `y` foi definido dentro do bloco e os nomes que são definidos dentro de um bloco não são visíveis fora do bloco.\n\nExemplo 3:\n\n```js\nlet x = 10;\nlet y;\n\n{\n   let x = 20;\n   console.log(`x dentro do bloco = ${x}`);\n   y = 30;\n   console.log(`y dentro do bloco = ${y}`);\n}\n\nconsole.log(`x fora do bloco = ${x}`);\nconsole.log(`y fora do bloco = ${y}`);\n```\n\nEsse programa agora funciona porque `y` foi declarada fora do bloco. A variável agora está no escopo de todo o programa, inclusive no scopo do bloco.\n\nRepare que, dentro do bloco, `y` não foi declarada novamente (não usamos `let`, como fizemos com `x`). Por isso, a variável `y` de dentro do bloco `é a mesma que` a variável `y` de fora do bloco. É por isso que, dentro do bloco, quando mudamos seu valor para `30`, o valor continuou sendo `30` fora do bloco, quando imprimimos `y`.\n",
      "metadata": {}
    }
  ]
}