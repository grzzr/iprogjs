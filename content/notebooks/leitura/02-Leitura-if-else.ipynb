{
  "metadata": {
    "kernelspec": {
      "name": "javascript",
      "display_name": "JavaScript (Web Worker)",
      "language": "javascript"
    },
    "language_info": {
      "codemirror_mode": {
        "name": "javascript"
      },
      "file_extension": ".js",
      "mimetype": "text/javascript",
      "name": "javascript",
      "nbconvert_exporter": "javascript",
      "pygments_lexer": "javascript",
      "version": "es2017"
    }
  },
  "nbformat_minor": 4,
  "nbformat": 4,
  "cells": [
    {
      "cell_type": "markdown",
      "source": "# Leitura de código: if-else\n\n1. Escreva um programa que recebe o valor de uma compra e calcula o valor do desconto, considerando um desconto de 10% para compras acima de R$ 100,00.\n\n```javascript\n\n```",
      "metadata": {}
    },
    {
      "cell_type": "code",
      "source": "// Define o valor da compra\nconst valorCompra = 150;\n\n// Calcula o valor do desconto\nlet desconto;\nif (valorCompra > 100) {\n  desconto = valorCompra * 0.10;\n} else {\n  desconto = 0;\n}\n\n// Imprime o valor do desconto\nconsole.log(`O valor do desconto é R$ ${desconto.toFixed(2)}`);",
      "metadata": {
        "trusted": true
      },
      "outputs": [],
      "execution_count": null
    },
    {
      "cell_type": "code",
      "source": "",
      "metadata": {
        "trusted": true
      },
      "outputs": [],
      "execution_count": null
    },
    {
      "cell_type": "code",
      "source": "",
      "metadata": {
        "trusted": true
      },
      "outputs": [],
      "execution_count": null
    },
    {
      "cell_type": "markdown",
      "source": "2. Escreva um programa que recebe a idade de uma pessoa e imprime uma mensagem indicando a faixa etária dela, considerando as seguintes categorias:\n\n* Criança: até 12 anos\n* Adolescente: entre 13 e 17 anos\n* Adulto: acima de 18 anos\n\n```javascript\n\n```",
      "metadata": {}
    },
    {
      "cell_type": "code",
      "source": "// Define a idade da pessoa\nconst idadePessoa = 25;\n\n// Imprime a faixa etária da pessoa\nlet categoria;\nif (idadePessoa <= 12) {\n  categoria = 'Criança';\n} else if (idadePessoa > 12 && idadePessoa <= 17) {\n  categoria = 'Adolescente';\n} else {\n  categoria = 'Adulto';\n}\nconsole.log(`A pessoa tem ${idadePessoa} anos e está na categoria ${categoria}.`);",
      "metadata": {
        "trusted": true
      },
      "outputs": [
        {
          "name": "stdout",
          "text": "A pessoa tem 25 anos e está na categoria Adulto.\n",
          "output_type": "stream"
        },
        {
          "execution_count": 1,
          "output_type": "execute_result",
          "data": {},
          "metadata": {}
        }
      ],
      "execution_count": 1
    },
    {
      "cell_type": "code",
      "source": "",
      "metadata": {
        "trusted": true
      },
      "outputs": [],
      "execution_count": null
    },
    {
      "cell_type": "code",
      "source": "",
      "metadata": {
        "trusted": true
      },
      "outputs": [],
      "execution_count": null
    },
    {
      "cell_type": "markdown",
      "source": "3. Escreva um programa que recebe o valor de um produto e imprime uma mensagem indicando se o produto está barato, caro ou no preço justo, considerando as seguintes categorias:\n\n* Barato: até `R$ 50,00`\n* No preço justo: entre `R$ 50,01` e `R$ 100,00`\n* Caro: acima de `R$ 100,00`\n\n```javascript\n\n```",
      "metadata": {}
    },
    {
      "cell_type": "code",
      "source": "// Define o valor do produto\nconst valorProduto = 75;\n\n// Imprime a categoria do preço do produto\nlet categoriaPreco;\nif (valorProduto <= 50) {\n  categoriaPreco = 'Barato';\n} else if (valorProduto > 50 && valorProduto <= 100) {\n  categoriaPreco = 'No preço justo';\n} else {\n  categoriaPreco = 'Caro';\n}\nconsole.log(`O produto custa R$ ${valorProduto} e está na categoria ${categoriaPreco}.`);",
      "metadata": {
        "trusted": true
      },
      "outputs": [],
      "execution_count": null
    },
    {
      "cell_type": "code",
      "source": "",
      "metadata": {
        "trusted": true
      },
      "outputs": [],
      "execution_count": null
    },
    {
      "cell_type": "code",
      "source": "",
      "metadata": {
        "trusted": true
      },
      "outputs": [],
      "execution_count": null
    },
    {
      "cell_type": "markdown",
      "source": "4. Escreva um programa que recebe o salário de um funcionário e imprime uma mensagem indicando se o funcionário está em regime de hora extra ou não, considerando as seguintes categorias:\n\n* Funcionário comum: salário abaixo de `R$ 2.000,00`\n* Funcionário com regime de hora extra: salário igual ou acima de `R$ 2.000,00`\n\n```javascript\n\n```",
      "metadata": {}
    },
    {
      "cell_type": "code",
      "source": "// Define o salário do funcionário\nconst salarioFuncionario = 2500;\n\n// Imprime se o funcionário está em regime de hora extra ou não\nif (salarioFuncionario >= 2000) {\n  console.log('O funcionário está em regime de hora extra.');\n} else {\n  console.log('O funcionário é comum.');\n}",
      "metadata": {
        "trusted": true
      },
      "outputs": [
        {
          "name": "stdout",
          "text": "O funcionário está em regime de hora extra.\n",
          "output_type": "stream"
        },
        {
          "execution_count": 2,
          "output_type": "execute_result",
          "data": {},
          "metadata": {}
        }
      ],
      "execution_count": 2
    },
    {
      "cell_type": "code",
      "source": "",
      "metadata": {
        "trusted": true
      },
      "outputs": [],
      "execution_count": null
    },
    {
      "cell_type": "code",
      "source": "",
      "metadata": {
        "trusted": true
      },
      "outputs": [],
      "execution_count": null
    }
  ]
}