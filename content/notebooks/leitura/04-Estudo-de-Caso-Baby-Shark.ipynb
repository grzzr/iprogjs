{
  "metadata": {
    "kernelspec": {
      "name": "javascript",
      "display_name": "JavaScript (Web Worker)",
      "language": "javascript"
    },
    "language_info": {
      "codemirror_mode": {
        "name": "javascript"
      },
      "file_extension": ".js",
      "mimetype": "text/javascript",
      "name": "javascript",
      "nbconvert_exporter": "javascript",
      "pygments_lexer": "javascript",
      "version": "es2017"
    }
  },
  "nbformat_minor": 4,
  "nbformat": 4,
  "cells": [
    {
      "cell_type": "markdown",
      "source": "## Estudo de caso: Baby Shark\n\nConsidere o programa abaixo, que imprime na tela a letra da música do Baby Shark.\n",
      "metadata": {}
    },
    {
      "cell_type": "code",
      "source": "bebeTubarao = \n`\nBebê tubarão, doo doo doo doo doo doo\nBebê tubarão, doo doo doo doo doo doo\nBebê tubarão, doo doo doo doo doo doo\nBebê tubarão!\n\nMamãe tubarão, doo doo doo doo doo doo\nMamãe tubarão, doo doo doo doo doo doo\nMamãe tubarão, doo doo doo doo doo doo\nMamãe tubarão!\n\nPapai tubarão, doo doo doo doo doo doo\nPapai tubarão, doo doo doo doo doo doo\nPapai tubarão, doo doo doo doo doo doo\nPapai tubarão!\n\nVovó tubarão, doo doo doo doo doo doo\nVovó tubarão, doo doo doo doo doo doo\nVovó tubarão, doo doo doo doo doo doo\nVovó tubarão!\n\nVovô tubarão, doo doo doo doo doo doo\nVovô tubarão, doo doo doo doo doo doo\nVovô tubarão, doo doo doo doo doo doo\nVovô tubarão!\n\nVou caçar, doo doo doo doo doo doo\nVou caçar, doo doo doo doo doo doo\nVou caçar, doo doo doo doo doo doo\nVou caçar!\n\nFoge, foge, doo doo doo doo doo doo\nFoge, foge, doo doo doo doo doo doo\nFoge, foge, doo doo doo doo doo doo\nFoge, foge!\n\nSãos e salvos, doo doo doo doo doo doo\nSãos e salvos, doo doo doo doo doo doo\nSãos e salvos, doo doo doo doo doo doo\nSãos e salvos!\n\nÉ o fim, doo doo doo doo doo doo\nÉ o fim, doo doo doo doo doo doo\nÉ o fim, doo doo doo doo doo doo\nÉ o fim!`\n\nconsole.log(bebeTubarao)\n",
      "metadata": {
        "trusted": true
      },
      "outputs": [],
      "execution_count": null
    },
    {
      "cell_type": "markdown",
      "source": "\nPodemos notar que há uma regra para formar cada estrofe.\n\n1. dizemos qual é a frase que inicia cada sentença\n2. acrescentamos `'doo doo doo doo doo doo'` ao final da frase e cantamos o resultado (a sentença) 3 vezes\n3. a sentença final é a frase inicial acrescida de `'!'`\n\nEsse é um `algorítmo` para formar uma estrofe do `Baby Shark`.\n\nVamos reescrever o programa usando esse algorítmo.\n\n",
      "metadata": {}
    },
    {
      "cell_type": "code",
      "source": "bebeTubarao = function(frase) {\n    return (\n        (frase + ' doo doo doo doo doo doo\\n').repeat(3)\n        +frase + '!\\n\\n'\n    )\n}\n    \nconst estrofe1 = bebeTubarao('Bebê tubarão')\nconst estrofe2 = bebeTubarao('Mamãe tubarão')\nconst estrofe3 = bebeTubarao('Papai tubarão')\nconst estrofe4 = bebeTubarao('Vovô tubarão')\nconst estrofe5 = bebeTubarao('Vovó tubarão')\nconst estrofe6 = bebeTubarao('Vou caçar')\nconst estrofe7 = bebeTubarao('Foge, foge')\nconst estrofe8 = bebeTubarao('Sãos e salvos')\nconst estrofe9 = bebeTubarao('É o fim')\n\nconsole.log(estrofe1)\nconsole.log(estrofe2)\nconsole.log(estrofe3)\nconsole.log(estrofe4)\nconsole.log(estrofe5)\nconsole.log(estrofe6)\nconsole.log(estrofe7)\nconsole.log(estrofe8)\nconsole.log(estrofe9)\n",
      "metadata": {
        "trusted": true
      },
      "outputs": [],
      "execution_count": null
    },
    {
      "cell_type": "markdown",
      "source": "## ![Mago](../../img/mago-64px.png) O que aconteceu aqui!?\n\nNesse programa usamos uma `Função` para **abstrair a operação** de criar uma estrofe do 'Baby Shark'.\n\n```js\nbabyShark = function(frase) {\n    return (\n        (frase + ' doo doo doo doo doo doo\\n').repeat(3)\n        +frase + '!\\n\\n'\n    )\n}\n```\n\nNo código acima:\n\n- Definimos a função usando a palavra `function` seguida de parênteses\n- entre os parênteses `()` declaramos uma variável que receberá o argumento da função (informado por quem chamar a função)\n- Entre as chaves '`{` `}`' escrevemos o `corpo da função`, que é o código que será executado quando alguém `chamar a função`.\n- `return` indica qual é o resultado da função, ou seja, o que ela retorna para quem chamou ela\n\nDepois, nós usamos a função.\n\nPara usar uma função usamos seu nome seguido de parênteses e passamos os parâmetros necessários, caso existam.\n\nNo exemplo, chamamos a função 9 vezes. \n\n```js\nconst estrofe1 = bebeTubarao('Bebê tubarão')\nconst estrofe2 = bebeTubarao('Mamãe tubarão')\nconst estrofe3 = bebeTubarao('Papai tubarão')\n\n// ...\n```\n\nA cada chamada de função:\n\n- passamos como parâmetro uma frase inicial diferente, que caracteriza a estrofe\n- a função pegou essa frase e usou ela para gerar a estrofe, segundo o padrão\n- ao final dessa operação, a função retornou para nós a string com a estrofe \"customizada\"\n- pegamos o retorno da função demos a ele um nome de variável(estrofe1, estrofe2...) e utilizamos essa variável no final do programa para imprimir na tela a estrofe (usando `console.log()`)\n\n```js\nconsole.log(estrofe1)\nconsole.log(estrofe2)\nconsole.log(estrofe3)\n\n// ...\n```\n\n## Composição de funções\n\nPodemos reescrever o programa para simplificá-lo mais.\n\nNote que só estamos usando as variáveis `estrofe1`, `estrofe2`... para passar o resultado da função `bebeTubarao()` para a função `console.log()`.\n\nPodemos fazer isso diretamente, sem usar as variáveis.\n\nAqui passamos o resultado de `bebeTubarao()` diretamente para `console.log()`. \n\n",
      "metadata": {}
    },
    {
      "cell_type": "code",
      "source": "bebeTubarao = function(frase) {\n    return (\n        (frase + ' doo doo doo doo doo doo\\n').repeat(3)\n        +frase + '!\\n\\n'\n    )\n}\n    \nconsole.log(bebeTubarao('Bebê tubarão'))\nconsole.log(bebeTubarao('Mamãe tubarão'))\nconsole.log(bebeTubarao('Papai tubarão'))\nconsole.log(bebeTubarao('Vovô tubarão'))\nconsole.log(bebeTubarao('Vovó tubarão'))\nconsole.log(bebeTubarao('Vou caçar'))\nconsole.log(bebeTubarao('Foge, foge'))\nconsole.log(bebeTubarao('Sãos e salvos'))\nconsole.log(bebeTubarao('É o fim'))",
      "metadata": {
        "trusted": true
      },
      "outputs": [],
      "execution_count": null
    },
    {
      "cell_type": "markdown",
      "source": "## Refatoração\n\nRefatorar é `reorganizar os fatores de um programa`, ou seja, as partes que compõe o programa.\n\nRefatorações acontecem quando mudamos de ideia sobre o modo como abstraímos alguma operação ou sobre como estamos chamando uma variável, função...\n\nDurante uma refatoração escrevemos e reescrevemos código para adequar o programa à nova ideia.\n\nVamos pensar melhor no que a função `bebeTubarao()` está fazendo. Na verdade, ela gera apenas uma estrofe da música `bebê tubarão` e não a letra inteira. Então, um melhor nome para ela seria `estrofe()` e não `bebeTubarao()`.\n\nUma função `bebeTubarao()` deveria gera a letra inteira da música e não só uma das estrofes. Então vamos reescrever o programa para:\n\n- mudar o nome da função `bebeTubarao()` para `estrofe()`\n- criar uma nova função `bebeTubarao()` que gera a letra inteira da música\n\nRefatorando o código ele poderia ficar assim:\n",
      "metadata": {}
    },
    {
      "cell_type": "code",
      "source": "estrofe = function(frase) {\n    return (\n        (frase + ' doo doo doo doo doo doo\\n').repeat(3)\n        +frase + '!\\n\\n'\n    )\n}\n    \nbebeTubarao = function() {\n    return (\n    estrofe('Bebê tubarão')\n    + estrofe('Mamãe tubarão')    \n    + estrofe('Papai tubarão')\n    + estrofe('Vovô tubarão')\n    + estrofe('Vovó tubarão')\n    + estrofe('Vou caçar')\n    + estrofe('Foge, foge')\n    + estrofe('Sãos e salvos')\n    + estrofe('É o fim')\n    )\n}\n\nconst letraDaMusica = bebeTubarao()\n\nconsole.log(letraDaMusica)",
      "metadata": {
        "trusted": true
      },
      "outputs": [],
      "execution_count": null
    },
    {
      "cell_type": "markdown",
      "source": "Nessa nova versão o código do programa representa melhor a forma abstrata como estamos concebendo a formação da letra do 'Bebê Tubarão'. \n\nAgora o programa está dizendo mais claramente que 'Bebê Tubarão' retorna a `letraDaMusica` e que ela é composta pela `estrofe('Bebê Tubarão')` + a `estrofe('Papai Tubarão')` + a `estrofe(...)...`",
      "metadata": {}
    }
  ]
}