{
  "metadata": {
    "kernelspec": {
      "name": "javascript",
      "display_name": "JavaScript (Web Worker)",
      "language": "javascript"
    },
    "language_info": {
      "codemirror_mode": {
        "name": "javascript"
      },
      "file_extension": ".js",
      "mimetype": "text/javascript",
      "name": "javascript",
      "nbconvert_exporter": "javascript",
      "pygments_lexer": "javascript",
      "version": "es2017"
    }
  },
  "nbformat_minor": 4,
  "nbformat": 4,
  "cells": [
    {
      "cell_type": "markdown",
      "source": "# Leitura de código: Exemplos de entrada, processamento e saída\n\nObserve nos programas abaixo um padrão de composição:\n\n- **Entrada**: definição de variáveis e valores que serão usados\n- **Processamento**: operações feitas com os valores, através das variáveis\n- **Saída**: resposta das operações é mostrada na tela do computador",
      "metadata": {}
    },
    {
      "cell_type": "markdown",
      "source": "Um programa é composto por uma ou mais instruções que são executadas em sequência. A organização básica de um programa inclui as seguintes partes:\n\n1. Declaração de variáveis: As variáveis são usadas para armazenar valores que podem ser alterados durante a execução do programa. Em JavaScript, podemos declarar variáveis usando as palavras-chave `let`, `const` ou `var`.\n2. Comentários: Os comentários são usados para adicionar anotações ao código que não são executadas como parte do programa. Eles podem ser usados para explicar o que o código está fazendo ou para desabilitar temporariamente partes do código. Em JavaScript, os comentários podem ser criados usando `//` para comentários de linha única ou `/* */` para comentários de várias linhas.\n3. Entrada de dados: Em alguns casos, um programa pode precisar receber dados de entrada do usuário. Isso pode ser feito usando a função `prompt()`, que exibe uma caixa de diálogo solicitando que o usuário insira um valor.\n4. Processamento de dados: Depois de declarar as variáveis e receber os dados de entrada, o programa pode processar esses dados usando operações aritméticas, comparações e outras funções built-in ou personalizadas.\n5. Saída de dados: Após o processamento dos dados, o programa pode exibir os resultados usando a função `console.log()`, que imprime uma mensagem no console do navegador ou do terminal.\n\nUm exemplo simples de programa em JavaScript pode ser o seguinte:\n\n```javascript\n// Declaração de variáveis\nlet nome = \"João\";\nlet idade = 25;\n\n// Processamento de dados\nlet mensagem;\nif (idade >= 18) {\n  mensagem = \"Você é maior de idade.\";\n} else {\n  mensagem = \"Você é menor de idade.\";\n}\n\n// Saída de dados\nconsole.log(nome + \" tem \" + idade + \" anos e \" + mensagem);\n```\n\nNeste exemplo, as variáveis `nome` e `idade` são declaradas e inicializadas com valores estáticos. O programa então processa os dados usando uma instrução `if` para determinar se a pessoa é maior ou menor de idade. Por fim, o programa exibe uma mensagem no console com os valores das variáveis e o resultado do processamento de dados.",
      "metadata": {}
    },
    {
      "cell_type": "markdown",
      "source": "## Exemplos",
      "metadata": {}
    },
    {
      "cell_type": "markdown",
      "source": "1. Escreva um programa que calcula a área de um retângulo dados sua largura e altura, e depois imprime o resultado.\n\n```javascript\n\n```",
      "metadata": {}
    },
    {
      "cell_type": "code",
      "source": "// Define a largura e altura do retângulo\nconst largura = 5;\nconst altura = 10;\n\n// Calcula a área do retângulo\nconst area = largura * altura;\n\n// Imprime o resultado\nconsole.log(`A área do retângulo é ${area}.`);",
      "metadata": {
        "trusted": true
      },
      "outputs": [],
      "execution_count": null
    },
    {
      "cell_type": "code",
      "source": "",
      "metadata": {
        "trusted": true
      },
      "outputs": [],
      "execution_count": null
    },
    {
      "cell_type": "markdown",
      "source": "2. Escreva um programa que converte uma temperatura de Celsius para Fahrenheit e imprime o resultado.\n\n```javascript\n\n```",
      "metadata": {}
    },
    {
      "cell_type": "code",
      "source": "// Define a temperatura em Celsius\nconst celsius = 20;\n\n// Converte a temperatura para Fahrenheit\nconst fahrenheit = (celsius * 9/5) + 32;\n\n// Imprime o resultado\nconsole.log(`${celsius} graus Celsius é igual a ${fahrenheit} graus Fahrenheit.`);",
      "metadata": {
        "trusted": true
      },
      "outputs": [],
      "execution_count": null
    },
    {
      "cell_type": "code",
      "source": "",
      "metadata": {
        "trusted": true
      },
      "outputs": [],
      "execution_count": null
    },
    {
      "cell_type": "markdown",
      "source": "3. Escreva um programa que calcula a soma de dois números e imprime o resultado.\n\n```javascript\n\n```",
      "metadata": {}
    },
    {
      "cell_type": "code",
      "source": "// Define dois números\nconst num1 = 5;\nconst num2 = 10;\n\n// Calcula a soma dos dois números\nconst soma = num1 + num2;\n\n// Imprime o resultado\nconsole.log(`A soma de ${num1} e ${num2} é ${soma}.`);",
      "metadata": {
        "trusted": true
      },
      "outputs": [],
      "execution_count": null
    },
    {
      "cell_type": "code",
      "source": "",
      "metadata": {
        "trusted": true
      },
      "outputs": [],
      "execution_count": null
    },
    {
      "cell_type": "markdown",
      "source": "4. Escreva um programa que calcula a média de três números e imprime o resultado.\n\n```javascript\n\n```",
      "metadata": {}
    },
    {
      "cell_type": "code",
      "source": "// Define três números\nconst num1 = 5;\nconst num2 = 10;\nconst num3 = 15;\n\n// Calcula a média dos três números\nconst media = (num1 + num2 + num3) / 3;\n\n// Imprime o resultado\nconsole.log(`A média de ${num1}, ${num2}, e ${num3} é ${media}.`);",
      "metadata": {
        "trusted": true
      },
      "outputs": [],
      "execution_count": null
    },
    {
      "cell_type": "code",
      "source": "",
      "metadata": {
        "trusted": true
      },
      "outputs": [],
      "execution_count": null
    },
    {
      "cell_type": "markdown",
      "source": "5. Escreva um programa que calcula a área de um círculo dado seu raio, e depois imprime o resultado.\n\n```javascript\n\n```",
      "metadata": {}
    },
    {
      "cell_type": "code",
      "source": "// Define o raio do círculo\nconst raio = 5;\n\n// Calcula a área do círculo\nconst area = Math.PI * raio * raio;\n\n// Imprime o resultado\nconsole.log(`A área do círculo é ${area}.`);",
      "metadata": {
        "trusted": true
      },
      "outputs": [],
      "execution_count": null
    },
    {
      "cell_type": "code",
      "source": "",
      "metadata": {
        "trusted": true
      },
      "outputs": [],
      "execution_count": null
    }
  ]
}