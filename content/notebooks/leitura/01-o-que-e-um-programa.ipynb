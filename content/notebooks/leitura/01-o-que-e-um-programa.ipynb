{
  "metadata": {
    "kernelspec": {
      "name": "javascript",
      "display_name": "JavaScript (Web Worker)",
      "language": "javascript"
    },
    "language_info": {
      "codemirror_mode": {
        "name": "javascript"
      },
      "file_extension": ".js",
      "mimetype": "text/javascript",
      "name": "javascript",
      "nbconvert_exporter": "javascript",
      "pygments_lexer": "javascript",
      "version": "es2017"
    }
  },
  "nbformat_minor": 4,
  "nbformat": 4,
  "cells": [
    {
      "cell_type": "markdown",
      "source": "# Leitura de código: Exemplos de entrada, processamento e saída\n\nObserve nos programas abaixo um padrão de composição:\n\n- **Entrada**: definição de variáveis e valores que serão usados\n- **Processamento**: operações feitas com os valores, através das variáveis\n- **Saída**: resposta das operações é mostrada na tela do computador\n\n\n1. Escreva um programa que calcula a área de um retângulo dados sua largura e altura, e depois imprime o resultado.\n\n```javascript\n// Define a largura e altura do retângulo\nconst largura = 5;\nconst altura = 10;\n\n// Calcula a área do retângulo\nconst area = largura * altura;\n\n// Imprime o resultado\nconsole.log(`A área do retângulo é ${area}.`);\n```\n\n2. Escreva um programa que converte uma temperatura de Celsius para Fahrenheit e imprime o resultado.\n\n```javascript\n// Define a temperatura em Celsius\nconst celsius = 20;\n\n// Converte a temperatura para Fahrenheit\nconst fahrenheit = (celsius * 9/5) + 32;\n\n// Imprime o resultado\nconsole.log(`${celsius} graus Celsius é igual a ${fahrenheit} graus Fahrenheit.`);\n```\n\n3. Escreva um programa que calcula a soma de dois números e imprime o resultado.\n\n```javascript\n// Define dois números\nconst num1 = 5;\nconst num2 = 10;\n\n// Calcula a soma dos dois números\nconst soma = num1 + num2;\n\n// Imprime o resultado\nconsole.log(`A soma de ${num1} e ${num2} é ${soma}.`);\n```\n\n4. Escreva um programa que calcula a média de três números e imprime o resultado.\n\n```javascript\n// Define três números\nconst num1 = 5;\nconst num2 = 10;\nconst num3 = 15;\n\n// Calcula a média dos três números\nconst media = (num1 + num2 + num3) / 3;\n\n// Imprime o resultado\nconsole.log(`A média de ${num1}, ${num2}, e ${num3} é ${media}.`);\n```\n\n5. Escreva um programa que calcula a área de um círculo dado seu raio, e depois imprime o resultado.\n\n```javascript\n// Define o raio do círculo\nconst raio = 5;\n\n// Calcula a área do círculo\nconst area = Math.PI * raio * raio;\n\n// Imprime o resultado\nconsole.log(`A área do círculo é ${area}.`);\n```",
      "metadata": {}
    }
  ]
}