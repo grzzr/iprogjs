{
  "metadata": {
    "kernelspec": {
      "name": "javascript",
      "display_name": "JavaScript (Web Worker)",
      "language": "javascript"
    },
    "language_info": {
      "codemirror_mode": {
        "name": "javascript"
      },
      "file_extension": ".js",
      "mimetype": "text/javascript",
      "name": "javascript",
      "nbconvert_exporter": "javascript",
      "pygments_lexer": "javascript",
      "version": "es2017"
    }
  },
  "nbformat_minor": 4,
  "nbformat": 4,
  "cells": [
    {
      "cell_type": "markdown",
      "source": "# Leitura de código: while e for\n\n\n1. Escreva um programa que imprime os números de 1 a 10 usando um loop `for`.\n\n```javascript\n\n```",
      "metadata": {}
    },
    {
      "cell_type": "code",
      "source": "// Imprime os números de 1 a 10 usando um loop for\nfor (let i = 1; i <= 10; i++) {\n  console.log(i);\n}",
      "metadata": {
        "trusted": true
      },
      "outputs": [],
      "execution_count": null
    },
    {
      "cell_type": "code",
      "source": "",
      "metadata": {
        "trusted": true
      },
      "outputs": [],
      "execution_count": null
    },
    {
      "cell_type": "markdown",
      "source": "2. Escreva um programa que imprime os números pares de 0 a 20 usando um loop `while`.\n\n```javascript\n\n```",
      "metadata": {}
    },
    {
      "cell_type": "code",
      "source": "// Imprime os números pares de 0 a 20 usando um loop while\nlet i = 0;\nwhile (i <= 20) {\n  if (i % 2 === 0) {\n    console.log(i);\n  }\n  i++;\n}",
      "metadata": {
        "trusted": true
      },
      "outputs": [],
      "execution_count": null
    },
    {
      "cell_type": "code",
      "source": "",
      "metadata": {
        "trusted": true
      },
      "outputs": [],
      "execution_count": null
    },
    {
      "cell_type": "code",
      "source": "",
      "metadata": {
        "trusted": true
      },
      "outputs": [],
      "execution_count": null
    },
    {
      "cell_type": "markdown",
      "source": "3. Escreva um programa que imprime a tabuada do 5 usando um loop `for`.\n\n```javascript\n\n```",
      "metadata": {}
    },
    {
      "cell_type": "code",
      "source": "// Imprime a tabuada do 5 usando um loop for\nfor (let i = 1; i <= 10; i++) {\n  console.log(`5 x ${i} = ${5 * i}`);\n}",
      "metadata": {
        "trusted": true
      },
      "outputs": [],
      "execution_count": null
    },
    {
      "cell_type": "code",
      "source": "",
      "metadata": {
        "trusted": true
      },
      "outputs": [],
      "execution_count": null
    },
    {
      "cell_type": "markdown",
      "source": "4. Escreva um programa que soma os números de 1 a 100 usando um loop `while`.\n\n```javascript\n\n```",
      "metadata": {}
    },
    {
      "cell_type": "code",
      "source": "// Soma os números de 1 a 100 usando um loop while\nlet i = 1;\nlet soma = 0;\nwhile (i <= 100) {\n  soma += i;\n  i++;\n}\nconsole.log(`A soma dos números de 1 a 100 é ${soma}.`);",
      "metadata": {
        "trusted": true
      },
      "outputs": [],
      "execution_count": null
    },
    {
      "cell_type": "code",
      "source": "",
      "metadata": {
        "trusted": true
      },
      "outputs": [],
      "execution_count": null
    },
    {
      "cell_type": "markdown",
      "source": "5. Escreva um programa que imprime os caracteres de uma string usando um loop `for`.\n\n```javascript\n\n```",
      "metadata": {}
    },
    {
      "cell_type": "code",
      "source": "// Imprime os caracteres de uma string usando um loop for\nconst frase = \"Olá, mundo!\";\nfor (let i = 0; i < frase.length; i++) {\n  console.log(frase[i]);\n}",
      "metadata": {
        "trusted": true
      },
      "outputs": [],
      "execution_count": null
    },
    {
      "cell_type": "code",
      "source": "",
      "metadata": {
        "trusted": true
      },
      "outputs": [],
      "execution_count": null
    }
  ]
}