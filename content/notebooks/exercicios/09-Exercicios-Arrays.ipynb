{
  "metadata": {
    "kernelspec": {
      "name": "javascript",
      "display_name": "JavaScript (Web Worker)",
      "language": "javascript"
    },
    "language_info": {
      "codemirror_mode": {
        "name": "javascript"
      },
      "file_extension": ".js",
      "mimetype": "text/javascript",
      "name": "javascript",
      "nbconvert_exporter": "javascript",
      "pygments_lexer": "javascript",
      "version": "es2017"
    }
  },
  "nbformat_minor": 4,
  "nbformat": 4,
  "cells": [
    {
      "cell_type": "markdown",
      "source": "# Exercícios com Arrays\n\n## Exercício 0\n\nEscreva um programa que execute as seguintes operações em sequência:\n\n1. Criar um array com os valores: 1, 2, 3, 4, 5 e 6.\n1. Imprir o array\n1. Imprir o tamanho do array -- `array.length`\n1. Adicionar o número 7\n1. Imprimir o array\n1. Pesquisar o índice dos números 4 e 5 e remover esses 2 elementos do array -- `array.splice(indice, 1)`\n1. Imprimir o array\n1. Imprimir o novo tamanho do array\n\n## Exercício 1\n\nEscreva um programa que escreva no console quantos emails existem no arquivo `emails.json`.\n\n## Exercício 2\n\nImprima no console a lista completa dos emails que estão em `emails.json` -- use o método `forEach()`\n\n## Exercício 3\n\nImprima todos os emails de `emails.json` porém cercados por '<' e '>'. Exemplo: \\<ljohns@witting.net\\>\n\n## Exercício 4\n\nImprima todos os emails de `emails.json` cercados por '<' e '>' e convertidos para maiúsculas.\n\n## Exercício 5\n\nCorrija o programa abaixo e diga o que ele faz.\n\n```js\nconst emails = Require('./emails.json')\n\nemails.forEach( (email) -> {\n    const tamanho = email.lenght\n    console.info('(${tamanho}) ${email}')\n})\n```\n\n## Exercício 6\n\n### Introdução\n\nVamos ver duas funções novas. Você vai precisar usar elas para resolver o exercício.\n\n1. O programa abaixo usa a função `JSON.stringify()`. Ela recebe um objeto Javascript e converte para uma string em formato JSON.\n\n```js\nconst nomes = ['André','Julia','Aline','Marcelo','João','Leandro']\n\nconst nomesJSON = JSON.stringify(nomes)\n\nconsole.log(nomesJSON)\n```\n\n2. O programa abaixo usa a função `writeFileSync()` para escrever uma string em um arquivo em disco.\n    \n    Essa função está em um pacote do `node` chamado `fs` (File System)\n```js\nconst fs = require('fs')\n\nconst conteudo = \"Oi, oi, oi!!!\"\nconst nomeDoArquivo = \"arquivo.txt\"\n\nfs.writeFileSync(nomeDoArquivo, conteudo)\n```\n\n### Tarefa do exercício 6\n\n1. Teste os dois programas de exemplo acima para ver o resultado deles e entender o que eles fazem\n1. Escreva um novo programa que cria um array com nomes a sua escolha (cerca 10 nomes) e grava ele em um arquivo chamado `nomes.json` em formato JSON.\n\n## Exercício 7\n\nO programa abaixo:\n\n1. Carrega um array de nomes do arquivo `nomes.json`. \n1. Adiciona um nome ao array\n1. Grava o arquivo `nomes.json` novamente, com os novos dados do array\n\n```js\nconst nomes = require('./nomes.json')\nconst fs = require('fs')\n\nnomes.push('Helena')\n\nfs.writeFileSync('nomes.json', JSON.stringify(nomes))\n```\n\n### Tarefa do exercício: \nEscreva um novo programa que retire do arquivo `nomes.json` o último nome do array de nomes.\n\n## Exercício 8\n\nEscreva um programa que retire o primeiro nome que está no array de `nomes.json`.\n\n## Exercício 9\n\nEscreva uma função chamada `existeEmail()` que recebe uma string contendo um email e que retorna `true` ou `false` dizendo se o email está ou não no arquivo `emails.json`.\n\nSua função deve passar no trecho de programa de teste abaixo:\n\n```js\nconsole.log(existeEmail('paolo75@dach.com'))\nconsole.log(existeEmail('fl.pacow@friesen.info'))\n```\n\nA saída no console deve ser:\n\n```bash\ntrue\nfalse\n```\n\n## Exercício 10\n\nEscreva uma função chamada `tldNet()` (tld = Top Level Domain) que recebe uma string contendo um endereço de email (formato `nome@domínio`) e que retorna `true` caso o domínio termine em `.net` e `false` caso não termine.\n\nTeste sua função com o trecho abaixo:\n\n```js\nconsole.log(tldNet('paolo75@dach.net'))\nconsole.log(tldNet('fl.pacow@friesen.info'))\n```\n\nA saída deve ser:\n\n```bash\ntrue\nfalse\n```\n## Exercício 11\n\nO programa abaixo usa a função `tldNet()`.\n\nEste programa itera sobre o array de `emails.json`, pegando email por email, e imprimindo no console cada email que termine em `.net` (aqueles para os quais `tldNet()` retorna `true`).\n\n```js\nconst emails = require('./emails.json')\n\n/*\nAqui deve vir o código da função tldNet(). Não coloquei para não dar a resposta do exercício anterior ;)\n*/\n\nemails.forEach( email => \n    tldNet(email) ? console.log(email) : undefined\n)\n\n```\n\nCopie e rode programa para entendê-lo bem.\n\n### Tarefa do exercício 11\n\nEscreva um programa que liste todos os emails de `emails.json` iniciados pela letra `a`.\n\n## Exercício 12\n\nEscreva um programa que liste todos os emails de `emails.json` porém escrevendo entre colchetes `[]` aqueles terminados em `.org`.\n\n## Exercício 13\n\nListe todos os números pares de `numeros.json`.\n\n## Exercício 14\n\nO arquivo `emails.json` tem dados inconsistentes. Alguns emails não tem `@` e por isso são inválidos.\n\nEscreva um programa que liste todos os emails inválidos do arquivo `emails.json` (os que não tem `@`).\n\n## Exercício 15\n\nEscreva um programa que liste todos os telefones DDD 51 do arquivo `telefones.json`",
      "metadata": {}
    }
  ]
}