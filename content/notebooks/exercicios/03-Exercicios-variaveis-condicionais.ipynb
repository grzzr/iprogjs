{
  "metadata": {
    "kernelspec": {
      "name": "javascript",
      "display_name": "JavaScript (Web Worker)",
      "language": "javascript"
    },
    "language_info": {
      "codemirror_mode": {
        "name": "javascript"
      },
      "file_extension": ".js",
      "mimetype": "text/javascript",
      "name": "javascript",
      "nbconvert_exporter": "javascript",
      "pygments_lexer": "javascript",
      "version": "es2017"
    }
  },
  "nbformat_minor": 4,
  "nbformat": 4,
  "cells": [
    {
      "cell_type": "markdown",
      "source": "# Exercícios\n\n## Apresentação\n\nEscreva um programa que imprime um parágrafo com uma apresentação pessoal sua.\n\nExemplo:\n\n```js\nconsole.info('Oi, eu sou o Gustavo')\n```\n\nOu...\n\n```js\nconst apresentacao = 'Oi, eu sou o Gustavo'\nconsole.log(apresentacao)\n```\n\nOu...\n\n```js\nconst apresentacao = `\nOi, eu sou o Gustavo e gosto de programação.\nEstou no curso para aprender mais e poder\nme preparar para estudar assuntos mais difíceis\ne fazer programas mais complexos.\n`\n\nconsole.log(apresentacao)\n\n```",
      "metadata": {}
    },
    {
      "cell_type": "code",
      "source": "",
      "metadata": {
        "trusted": true
      },
      "outputs": [],
      "execution_count": null
    },
    {
      "cell_type": "markdown",
      "source": "## Ficha de cadastro de pessoa\n\nEscreva um programa que imprime no console os dados abaixo.\n\n```js\nconst nome = 'Adriano'\nconst email = 'adri@host.net'\nconst idade = 28\n```\n\nUse a função `console.info()``\n\nExemplos: \n\n```js\nconsole.info(nome)\n```\n\n```js\nconsole.info(`Nome: ${nome}`)\n```\n\n```js\nconsole.info('Nome ' + nome)\n```\n\n```js\nconsole.info('Nome', nome)\n```",
      "metadata": {}
    },
    {
      "cell_type": "code",
      "source": "",
      "metadata": {
        "trusted": true
      },
      "outputs": [],
      "execution_count": null
    },
    {
      "cell_type": "markdown",
      "source": "## Ficha de perfil da pessoa\n\nAcrescente uma variável ao programa que você fez no exercício anterior que conterá um breve texto de apresentação de uma pessoa e imprima no console esse texto antes dos dados de perfil (nome, email, idade).",
      "metadata": {}
    },
    {
      "cell_type": "markdown",
      "source": "## Feliz aniversário\n\nEscreva um programa que:\n- contém uma variável chamada `nome`\n- escreve no console \"Feliz aniversário, \" seguido do valor da variável nome.",
      "metadata": {}
    },
    {
      "cell_type": "code",
      "source": "",
      "metadata": {
        "trusted": true
      },
      "outputs": [],
      "execution_count": null
    },
    {
      "cell_type": "markdown",
      "source": "## Feliz aniversário muitas vezes\n\nModifique o programa `Feliz Aniversário`.\n\n1. Acrescente uma variável que contém um número que representa a idade da pessoa de aniversário\n2. Imprima no console a mensagem 'Feliz aniversário' uma vez para cada ano de vida dela.\n\nExemplo, se o usuário está fazendo 30 anos, imprima 30 vezes `Feliz aniversário`. \n\nPara isso, você vai usar o método `repeat()` de `string`.\n\nExemplo:\n\n```js\n// Cria uma String que contém 20 vezes a String 'oi! '\n// e depois imprime ela no console\n\nconsole.log('oi! '.repeat(20))\n```",
      "metadata": {}
    },
    {
      "cell_type": "code",
      "source": "",
      "metadata": {
        "trusted": true
      },
      "outputs": [],
      "execution_count": null
    },
    {
      "cell_type": "markdown",
      "source": "## Controle de idade\n\nO progrma abaixo usa o operador condicional `? :` para selecionar um valor para `mensagem` em função do valor de verdade da expressão `idade >= 21`.\n\nSe for `verdadeiro` que `idade >= 21` o operador retornará `Ok. Pode passar`.\nSe for `falso` que `idade >= 21` o operador retornará `Vote quando tiver 21`.\n\n```js\nconst idade = 20\nconst mensagem = idade>=21 ? 'Ok. Pode passar': 'Volte quando tiver 21'\n\nconsole.info(mensagem)\n```\n\nNeste caso, a saída do programa deve ser...\n\n```\nVolte quando tiver 21\n```\n\n...porque `idade = 20` e 20 *não é* >= `21`.\n\n## Parabéns personalizado\n\nObserve a técnica utilizada abaixo para transformar em *variáveis* as mensagens retornadas pelo programa.\n\n```js\nlet idade = 20\nlet msg1 = 'Ok. Pode passar'\nlet msg2 = 'Volte quando tiver 21'\n\nconst mensagem = idade>=21 ? msg1 : msg2\n\nconsole.info(mensagem)\n```\n\nOs possíveis valores de `mensagem` foram atribuídos às variáveis `msg1` e `msg2`.\n\nDessa forma, é possível mudar o conteúdo da mensagem durante a execução do programa.\n\nExemplo: \n\n```js\nlet idade = 20\nlet msg1 = 'Ok. Pode passar'\nlet msg2 = 'Volte quando tiver 21'\n\nlet mensagem = idade>=21 ? msg1 : msg2\n\nconsole.info(mensagem)\n\n// Agora mudamos o valor...\n\nmsg2 = \"Volte outra vez\"\nmensagem = idade>=21 ? msg1 : msg2\nconsole.info(mensagem)\n\n// A saída do programa muda\n```\n\n### Tarefa\n\nModifique o programa `Feliz aniversário` para que ele mostre uma mensagem de parabéns diferente dependendo do valor da variável `idade`.\n\n- Se idade contiver 18, a mensagem será \"Parabéns! Agora você já é maior!\"\n- Se a idade for diferente de 18, a mensagem será \"Feliz aniversário!\"",
      "metadata": {}
    },
    {
      "cell_type": "code",
      "source": "",
      "metadata": {
        "trusted": true
      },
      "outputs": [],
      "execution_count": null
    }
  ]
}