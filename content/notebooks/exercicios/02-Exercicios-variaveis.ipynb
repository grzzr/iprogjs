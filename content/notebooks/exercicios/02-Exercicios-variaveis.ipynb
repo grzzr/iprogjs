{
  "metadata": {
    "kernelspec": {
      "name": "javascript",
      "display_name": "JavaScript (Web Worker)",
      "language": "javascript"
    },
    "language_info": {
      "codemirror_mode": {
        "name": "javascript"
      },
      "file_extension": ".js",
      "mimetype": "text/javascript",
      "name": "javascript",
      "nbconvert_exporter": "javascript",
      "pygments_lexer": "javascript",
      "version": "es2017"
    }
  },
  "nbformat_minor": 4,
  "nbformat": 4,
  "cells": [
    {
      "cell_type": "markdown",
      "source": "# ![Mago](../../img/mago-64px.png) Exercícios com Variáveis\n\n## 1 - valores separados por vírgula (CSV)\n\nCom base no código abaixo, altere o programa para que ele imprima no console apenas uma linha com os valores de `nome`, `email`, `idade` e `anoDeNascimento` separados por vírgula.\n\nEx:\n\n```\nGustavo,grz@oooi.xyz,45,1978\n```\n\nPrograma base:\n\n```js\nconst ano = 2023\nconst nome = 'Gustavo'\nconst idade =  45\nconst email = 'grz@oooi.xyz'\n\nconst anoDeNascimento = ano - idade\n\nconsole.log(`Ano de nascimento: ${anoDeNascimento}`)\n```",
      "metadata": {}
    },
    {
      "cell_type": "code",
      "source": "",
      "metadata": {
        "trusted": true
      },
      "outputs": [],
      "execution_count": null
    },
    {
      "cell_type": "markdown",
      "source": "## 2 - um registro de estudante:\n\nEscreva um novo programa. Nele você vai:\n\n1. Criar uma variável e atribuir a ela seu primeiro nome\n1. Criar uma variável e atribuir a ela seu sobrenome\n1. Criar uma variável e atribuir a ela sua idade\n1. Imprimir o seu nome, sobrenomee idade no console separando cada um desses dados por uma vírgula.",
      "metadata": {}
    },
    {
      "cell_type": "code",
      "source": "",
      "metadata": {
        "trusted": true
      },
      "outputs": [],
      "execution_count": null
    },
    {
      "cell_type": "markdown",
      "source": "## 3 - Cálculo da distância percorrida\n\nO programa abaixo calcula a distância percorrida por um objeto com velocidade constante em um tempo determinado. O resultado é guardado na variável `d` (de *distância*).\n\n```js\n/*\nd = distância\nv = velocidade\nt = tempo\n*/\n\nlet v = 900\nlet t = 11\nlet d = v * t\n\n```\n\nFaça as alterações abaixo com base nesse programa.\n\nTarefas:\n\n1. Altere o programa para que ele escreva no console a distância que foi calculada.\n1. Imprima também qual a velocidade e tempo que foram usados para o cálculo.\n1. Altere o programa para que ele calcule e escreva no console o valor de 2 distâncias percorridas:\n    - distância 1 - para `v = 900` e `t = 11`\n    - distância 2 - para `v = 500` e `t = 8`",
      "metadata": {}
    },
    {
      "cell_type": "code",
      "source": "",
      "metadata": {
        "trusted": true
      },
      "outputs": [],
      "execution_count": null
    },
    {
      "cell_type": "markdown",
      "source": "## 4 - Cálculo da média final de um estudante\n\nEscreva um programa que:\n\n1. calcule a média de 3 notas\n1. imprima no console o resultado final\n\n- Cada nota deve ser guardada em uma variável.\n- As notas podem ter valor decimal\n- A média final deve ser guardada em um variável chamada `media` antes de ser escrita no console",
      "metadata": {}
    },
    {
      "cell_type": "code",
      "source": "",
      "metadata": {
        "trusted": true
      },
      "outputs": [],
      "execution_count": null
    },
    {
      "cell_type": "markdown",
      "source": "## 5 - Listagem de notas e média final (CSV)\n\nAltere o programa 4 para que ele imprima no console os valores de cada uma das notas e também a média final, separados por vírgula.\n\nO formato da saída é o seguinte\n\n```\nnota1,nota2,nota3,media\n```",
      "metadata": {}
    },
    {
      "cell_type": "code",
      "source": "",
      "metadata": {
        "trusted": true
      },
      "outputs": [],
      "execution_count": null
    }
  ]
}