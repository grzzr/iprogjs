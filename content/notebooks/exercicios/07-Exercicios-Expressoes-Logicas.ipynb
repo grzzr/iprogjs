{
  "metadata": {
    "kernelspec": {
      "name": "javascript",
      "display_name": "JavaScript (Web Worker)",
      "language": "javascript"
    },
    "language_info": {
      "codemirror_mode": {
        "name": "javascript"
      },
      "file_extension": ".js",
      "mimetype": "text/javascript",
      "name": "javascript",
      "nbconvert_exporter": "javascript",
      "pygments_lexer": "javascript",
      "version": "es2017"
    }
  },
  "nbformat_minor": 4,
  "nbformat": 4,
  "cells": [
    {
      "cell_type": "markdown",
      "source": "# Expressões lógicas\n\n\nAprender a programar envolve saber como expressar ideias e instruções de forma, e usando uma linguagem, que o computador possa entender. \n\nUma parte crucial dessa linguagem são as expressões lógicas, que permitem que o programa tome decisões e execute ações específicas com base em condições verdadeiras ou falsas. \n\n\nEstes 10 exercícios exploram a tradução de expressões lógicas do português para o JavaScript. Cada exercício apresenta uma expressão lógica em português e você precisa traduzi-la para o código JavaScript equivalente. \n\n**Por exemplo:** a expressão *\"Se o número é maior que 10, então imprima 'Número grande'\"* pode ser traduzida para o JavaScript como:\n\n```javascript\nif (numero > 10) {\n  console.log(\"Número grande\");\n}\n```\n",
      "metadata": {}
    },
    {
      "cell_type": "markdown",
      "source": "## Exercícios \n\n1. **\"Se a idade é maior ou igual a 18, então a pessoa é maior de idade.\"**\n",
      "metadata": {}
    },
    {
      "cell_type": "code",
      "source": "",
      "metadata": {
        "trusted": true
      },
      "outputs": [],
      "execution_count": null
    },
    {
      "cell_type": "markdown",
      "source": "2. **\"Se o valor é positivo e menor que 100, então imprima 'Valor válido'.\"**\n",
      "metadata": {}
    },
    {
      "cell_type": "code",
      "source": "",
      "metadata": {
        "trusted": true
      },
      "outputs": [],
      "execution_count": null
    },
    {
      "cell_type": "markdown",
      "source": "3. **\"Se o dia da semana é sábado ou domingo, então é fim de semana.\"**\n",
      "metadata": {}
    },
    {
      "cell_type": "code",
      "source": "",
      "metadata": {
        "trusted": true
      },
      "outputs": [],
      "execution_count": null
    },
    {
      "cell_type": "markdown",
      "source": "4. **\"Se o nome começa com a letra 'A', então imprima 'Nome começa com A'.\"**",
      "metadata": {}
    },
    {
      "cell_type": "code",
      "source": "",
      "metadata": {
        "trusted": true
      },
      "outputs": [],
      "execution_count": null
    },
    {
      "cell_type": "markdown",
      "source": "5. **\"Se o número é par, então imprima 'Número par'.\"**\n",
      "metadata": {}
    },
    {
      "cell_type": "code",
      "source": "",
      "metadata": {
        "trusted": true
      },
      "outputs": [],
      "execution_count": null
    },
    {
      "cell_type": "markdown",
      "source": "6. **\"Se o ano é bissexto, então imprima 'Ano bissexto'.\"**\n",
      "metadata": {}
    },
    {
      "cell_type": "code",
      "source": "",
      "metadata": {
        "trusted": true
      },
      "outputs": [],
      "execution_count": null
    },
    {
      "cell_type": "markdown",
      "source": "7. **\"Se a senha tem mais de 8 caracteres e contém pelo menos um número, então a senha é segura.\"**\n",
      "metadata": {}
    },
    {
      "cell_type": "code",
      "source": "",
      "metadata": {
        "trusted": true
      },
      "outputs": [],
      "execution_count": null
    },
    {
      "cell_type": "markdown",
      "source": "8. **\"Se o usuário está logado e tem permissão de administrador, então exiba o painel de administração.\"**\n",
      "metadata": {}
    },
    {
      "cell_type": "code",
      "source": "",
      "metadata": {
        "trusted": true
      },
      "outputs": [],
      "execution_count": null
    },
    {
      "cell_type": "markdown",
      "source": "9. **\"Se o produto está em estoque e o valor do pedido é maior que R$ 100, então ofereça frete grátis.\"**\n",
      "metadata": {}
    },
    {
      "cell_type": "code",
      "source": "",
      "metadata": {
        "trusted": true
      },
      "outputs": [],
      "execution_count": null
    },
    {
      "cell_type": "markdown",
      "source": "10. **\"Se o tempo está nublado e a temperatura está abaixo de 10 graus Celsius, então é provável que chova.\"**",
      "metadata": {}
    },
    {
      "cell_type": "code",
      "source": "",
      "metadata": {
        "trusted": true
      },
      "outputs": [],
      "execution_count": null
    }
  ]
}