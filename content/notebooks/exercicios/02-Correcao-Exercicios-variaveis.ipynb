{
  "metadata": {
    "kernelspec": {
      "name": "p5js",
      "display_name": "p5.js",
      "language": "javascript"
    },
    "language_info": {
      "codemirror_mode": {
        "name": "javascript"
      },
      "file_extension": ".js",
      "mimetype": "text/javascript",
      "name": "p5js",
      "nbconvert_exporter": "javascript",
      "pygments_lexer": "javascript",
      "version": "es2017"
    }
  },
  "nbformat_minor": 4,
  "nbformat": 4,
  "cells": [
    {
      "cell_type": "markdown",
      "source": "# Revisão e Exercícios de interpretação e programação\n",
      "metadata": {}
    },
    {
      "cell_type": "markdown",
      "source": "### Revisão de variáveis, valores, tipos, operadores e expressões:\n\n- Declarar uma variável - usamos a instrução `let`\n\n```js\nlet nomeDaVariavel\n```\n\n- Atribuir um valor a uma variável - usamos o operador `=`\n\n```js\numaVariavel = \"uma string\"\noutraVariavel = 20\n```\n\n- Declaração e atribuição podem acontecer na mesma linha de código\n\n```js\nlet umaVariavel = \"Valor inicial\"\nlet resposta = 20\n```\n\n- Imprimir o valor de uma variável no \"console\" - usando `console.log()`\n\n```js\nlet nomeDaVariavel = \"Oi, oi, oi!\"\nconsole.log(nomeDaVariavel)\n```\n\n- Operadores podem ser usados para formar \"expressões\" da linguagem\n\n```js\n20 * 30 //  *  operador de multiplicação\n30 / 2  //  /  operador de divisão\n10 - 2  //  -  operador de subtração\n40 + 2  //  +  operador de adição\n\n```\n\nUma \"expressão\" da linguagem é \"avaliada\" pelo computador e seu resultado inserido no local onde a expressão foi escrita.\n\n```js\nlet soma = 20 + 30 + 40\n```\n\nNo código acima:\n1. primeiro será avaliada a expressão `20 + 30 + 40`\n2. o resultado da expressão será atribuído à `soma`\n\n### Exemplo 1\n\n1. Declarar uma variável chamada \"nome\"\n2. Atribuir à variável \"nome\" um valor do tipo \"string\" contendo o valor \"Zé\"",
      "metadata": {}
    },
    {
      "cell_type": "code",
      "source": "let nome\nnome = \"Zé\"",
      "metadata": {
        "trusted": true
      },
      "outputs": [],
      "execution_count": null
    },
    {
      "cell_type": "markdown",
      "source": "### Exemplo 2\n\n- Criar uma variável chamada cep contendo a string \"90123-321\"  ",
      "metadata": {}
    },
    {
      "cell_type": "code",
      "source": "let cep\ncep = \"90123-321\"",
      "metadata": {
        "trusted": true
      },
      "outputs": [],
      "execution_count": null
    },
    {
      "cell_type": "code",
      "source": "let cep\ncep = 90123-321\nconsole.log(cep)",
      "metadata": {
        "trusted": true
      },
      "outputs": [
        {
          "execution_count": 11,
          "output_type": "execute_result",
          "data": {},
          "metadata": {}
        },
        {
          "event": "stream",
          "name": "stdout",
          "text": "89802\n",
          "output_type": "stream"
        }
      ],
      "execution_count": 11
    },
    {
      "cell_type": "markdown",
      "source": "### Exemplo 3\n\n- Criar uma variável chamada total inicializada com o valor 0\n\n```js\nlet total = 0\n```",
      "metadata": {}
    },
    {
      "cell_type": "markdown",
      "source": "### Exemplo 4\n\n1. Declarar uma variável chamada \"mensagem\" contendo \"Oi, oi, oi!!!\"\n2. Imprimir o valor de \"mensagem\" no console\n\n```js\nlet mensagem = \"Oi, oi, oi!!!\"\nconsole.log(mensagem)\n```",
      "metadata": {}
    },
    {
      "cell_type": "markdown",
      "source": "### Exercícios\n\n**Instruções**\n\n- Escreva sua resposta nas células abaixo.\n- Seu código deve ir *entre os comentários* `// Inicio` e `// Fim`.\n- Não modifique a última linha. Ela está lá para testar sua resposta e ajudar você a corrigí-la mais ajuda.\n- Para testar basta executar o código dando o comando `ctrl+ENTER`. \n\n\n1. Declare uma variável chamada \"mensagem\"\n",
      "metadata": {
        "tags": [],
        "editable": true,
        "slideshow": {
          "slide_type": ""
        }
      }
    },
    {
      "cell_type": "code",
      "source": "// Inicio\n\nlet mensagem\n\n// Fim\n// Não modifique a linha abaixo\n!mensagem?\"👍\":\"👎\"",
      "metadata": {
        "trusted": true,
        "tags": [],
        "editable": true,
        "slideshow": {
          "slide_type": ""
        }
      },
      "outputs": [
        {
          "execution_count": 12,
          "output_type": "execute_result",
          "data": {
            "text/plain": "👍"
          },
          "metadata": {}
        }
      ],
      "execution_count": 12
    },
    {
      "cell_type": "markdown",
      "source": "2. Crie uma variável chamada \"url\" contendo a string \"senacrs.com.br\"",
      "metadata": {}
    },
    {
      "cell_type": "code",
      "source": "// Inicio\n\nlet url = \"senacrs.com.br\"\n\n\n// Fim\n// Não modifique a linha abaixo\nurl===\"senacrs.com.br\"?\"👍\":\"👎\"",
      "metadata": {
        "trusted": true,
        "tags": [],
        "editable": true,
        "slideshow": {
          "slide_type": ""
        }
      },
      "outputs": [
        {
          "execution_count": 14,
          "output_type": "execute_result",
          "data": {
            "text/plain": "👍"
          },
          "metadata": {}
        }
      ],
      "execution_count": 14
    },
    {
      "cell_type": "markdown",
      "source": "3. Declare uma variável chamada \"soma\" e inicialize ela com o valor 0.",
      "metadata": {}
    },
    {
      "cell_type": "code",
      "source": "// Inicio\nlet soma = 0\n\n// Fim\n// Não modifique a linha abaixo\nsoma===0?\"👍\":\"👎\"",
      "metadata": {
        "trusted": true,
        "tags": [],
        "editable": true,
        "slideshow": {
          "slide_type": ""
        }
      },
      "outputs": [
        {
          "execution_count": 15,
          "output_type": "execute_result",
          "data": {
            "text/plain": "👍"
          },
          "metadata": {}
        }
      ],
      "execution_count": 15
    },
    {
      "cell_type": "markdown",
      "source": "4. Crie uma variável chamada total inicializada com 0. Depois, atribua a ela o valor 20.",
      "metadata": {}
    },
    {
      "cell_type": "code",
      "source": "// Inicio\n\nlet total = 0\ntotal = 20\n\n// Fim\n// Não modifique a linha abaixo\ntotal===20?\"👍\":\"👎\"",
      "metadata": {
        "trusted": true
      },
      "outputs": [
        {
          "execution_count": 20,
          "output_type": "execute_result",
          "data": {
            "text/plain": "👍"
          },
          "metadata": {}
        }
      ],
      "execution_count": 20
    },
    {
      "cell_type": "markdown",
      "source": "5. Declare uma variável chamada \"nome\" contendo o nome \"Ana\" e depois imprima no console o valor de nome.",
      "metadata": {}
    },
    {
      "cell_type": "code",
      "source": "// Inicio\nlet nome = \"Ana\"\nconsole.log(nome)\n\n// Fim\n// Não modifique a linha abaixo\nnome===\"Ana\"?\"👍\":\"👎\"",
      "metadata": {
        "trusted": true
      },
      "outputs": [
        {
          "execution_count": 21,
          "output_type": "execute_result",
          "data": {
            "text/plain": "👍"
          },
          "metadata": {}
        },
        {
          "event": "stream",
          "name": "stdout",
          "text": "Ana\n",
          "output_type": "stream"
        }
      ],
      "execution_count": 21
    },
    {
      "cell_type": "markdown",
      "source": "6. Calcule a média das notas de um aluno seguindo os passos abaixo:\n\n   - Crie 4 variáveis chamadas \"nota1\", \"nota2\", \"nota3\" e \"media\"\n   - Atribua os valores 7, 9 e 8 às variáveis \"nota1\", \"nota2\" e \"nota3\" respectivamente\n   - Atribua à \"media\" o resultado da expressão `(nota1 + nota2 + nota3) /3`. Assim:\n\n     ```js\n     media = (nota1 + nota2 + nota3) /3\n     ```\n",
      "metadata": {}
    },
    {
      "cell_type": "code",
      "source": "// Inicio\nlet nota1 = 7\nlet nota2 = 9\nlet nota3 = 8\nlet media = (nota1 + nota2 + nota3) /3\n// Fim\n// Não modifique a linha abaixo\nnota1===7 && nota2===9 && nota3===8 && media===8?\"👍\":\"👎\"",
      "metadata": {
        "trusted": true,
        "tags": [],
        "editable": true,
        "slideshow": {
          "slide_type": ""
        }
      },
      "outputs": [
        {
          "execution_count": 23,
          "output_type": "execute_result",
          "data": {
            "text/plain": "👍"
          },
          "metadata": {}
        },
        {
          "event": "stream",
          "name": "stderr",
          "text": "p5.js seems to have been imported multiple times. Please remove the duplicate import\n",
          "output_type": "stream"
        },
        {
          "event": "stream",
          "name": "stdout",
          "text": "\n🌸 p5.js says:  circle() was expecting at least 3 arguments, but received only 0. (http://p5js.org/reference/#/p5/circle)\n",
          "output_type": "stream"
        },
        {
          "event": "stream",
          "name": "stderr",
          "text": "ReferenceError: desenhaMickey is not defined\n",
          "output_type": "stream"
        },
        {
          "event": "stream",
          "name": "stdout",
          "text": "\n🌸 p5.js says: \n \"desenhaMickey\" is not defined in the current scope. If you have defined it in your code, you should check its scope, spelling, and letter-casing (JavaScript is case-sensitive).\n\n+ More info: https://p5js.org/examples/data-variable-scope.html\n",
          "output_type": "stream"
        }
      ],
      "execution_count": 23
    }
  ]
}