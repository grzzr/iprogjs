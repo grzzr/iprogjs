{
  "metadata": {
    "kernelspec": {
      "name": "p5js",
      "display_name": "p5.js",
      "language": "javascript"
    },
    "language_info": {
      "codemirror_mode": {
        "name": "javascript"
      },
      "file_extension": ".js",
      "mimetype": "text/javascript",
      "name": "p5js",
      "nbconvert_exporter": "javascript",
      "pygments_lexer": "javascript",
      "version": "es2017"
    }
  },
  "nbformat_minor": 4,
  "nbformat": 4,
  "cells": [
    {
      "cell_type": "markdown",
      "source": "# Correção dos Exercícios de interpretação e programação\n",
      "metadata": {}
    },
    {
      "cell_type": "markdown",
      "source": "### Exercícios\n\n1. Declare uma variável chamada \"mensagem\"\n",
      "metadata": {
        "tags": [],
        "editable": true,
        "slideshow": {
          "slide_type": ""
        }
      }
    },
    {
      "cell_type": "code",
      "source": "// Inicio\n\nlet mensagem\n\n// Fim\n// Não modifique a linha abaixo\n!mensagem?\"👍\":\"👎\"",
      "metadata": {
        "trusted": true,
        "tags": [],
        "editable": true,
        "slideshow": {
          "slide_type": ""
        }
      },
      "outputs": [
        {
          "execution_count": 12,
          "output_type": "execute_result",
          "data": {
            "text/plain": "👍"
          },
          "metadata": {}
        }
      ],
      "execution_count": 12
    },
    {
      "cell_type": "markdown",
      "source": "2. Crie uma variável chamada \"url\" contendo a string \"senacrs.com.br\"",
      "metadata": {}
    },
    {
      "cell_type": "code",
      "source": "// Inicio\n\nlet url = \"senacrs.com.br\"\n\n\n// Fim\n// Não modifique a linha abaixo\nurl===\"senacrs.com.br\"?\"👍\":\"👎\"",
      "metadata": {
        "trusted": true,
        "tags": [],
        "editable": true,
        "slideshow": {
          "slide_type": ""
        }
      },
      "outputs": [
        {
          "execution_count": 14,
          "output_type": "execute_result",
          "data": {
            "text/plain": "👍"
          },
          "metadata": {}
        }
      ],
      "execution_count": 14
    },
    {
      "cell_type": "markdown",
      "source": "3. Declare uma variável chamada \"soma\" e inicialize ela com o valor 0.",
      "metadata": {}
    },
    {
      "cell_type": "code",
      "source": "// Inicio\nlet soma = 0\n\n// Fim\n// Não modifique a linha abaixo\nsoma===0?\"👍\":\"👎\"",
      "metadata": {
        "trusted": true,
        "tags": [],
        "editable": true,
        "slideshow": {
          "slide_type": ""
        }
      },
      "outputs": [
        {
          "execution_count": 15,
          "output_type": "execute_result",
          "data": {
            "text/plain": "👍"
          },
          "metadata": {}
        }
      ],
      "execution_count": 15
    },
    {
      "cell_type": "markdown",
      "source": "4. Crie uma variável chamada total inicializada com 0. Depois, atribua a ela o valor 20.",
      "metadata": {}
    },
    {
      "cell_type": "code",
      "source": "// Inicio\n\nlet total = 0\ntotal = 20\n\n// Fim\n// Não modifique a linha abaixo\ntotal===20?\"👍\":\"👎\"",
      "metadata": {
        "trusted": true
      },
      "outputs": [
        {
          "execution_count": 20,
          "output_type": "execute_result",
          "data": {
            "text/plain": "👍"
          },
          "metadata": {}
        }
      ],
      "execution_count": 20
    },
    {
      "cell_type": "markdown",
      "source": "5. Declare uma variável chamada \"nome\" contendo o nome \"Ana\" e depois imprima no console o valor de nome.",
      "metadata": {}
    },
    {
      "cell_type": "code",
      "source": "// Inicio\nlet nome = \"Ana\"\nconsole.log(nome)\n\n// Fim\n// Não modifique a linha abaixo\nnome===\"Ana\"?\"👍\":\"👎\"",
      "metadata": {
        "trusted": true
      },
      "outputs": [
        {
          "execution_count": 21,
          "output_type": "execute_result",
          "data": {
            "text/plain": "👍"
          },
          "metadata": {}
        },
        {
          "event": "stream",
          "name": "stdout",
          "text": "Ana\n",
          "output_type": "stream"
        }
      ],
      "execution_count": 21
    },
    {
      "cell_type": "markdown",
      "source": "6. Calcule a média das notas de um aluno seguindo os passos abaixo:\n\n   - Crie 4 variáveis chamadas \"nota1\", \"nota2\", \"nota3\" e \"media\"\n   - Atribua os valores 7, 9 e 8 às variáveis \"nota1\", \"nota2\" e \"nota3\" respectivamente\n   - Atribua à \"media\" o resultado da expressão `(nota1 + nota2 + nota3) /3`. Assim:\n\n     ```js\n     media = (nota1 + nota2 + nota3) /3\n     ```\n",
      "metadata": {}
    },
    {
      "cell_type": "code",
      "source": "// Inicio\nlet nota1 = 7\nlet nota2 = 9\nlet nota3 = 8\nlet media = (nota1 + nota2 + nota3) /3\n// Fim\n// Não modifique a linha abaixo\nnota1===7 && nota2===9 && nota3===8 && media===8?\"👍\":\"👎\"",
      "metadata": {
        "trusted": true,
        "tags": [],
        "editable": true,
        "slideshow": {
          "slide_type": ""
        }
      },
      "outputs": [
        {
          "execution_count": 1,
          "output_type": "execute_result",
          "data": {
            "text/plain": "👍"
          },
          "metadata": {}
        }
      ],
      "execution_count": 1
    }
  ]
}