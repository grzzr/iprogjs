{
  "metadata": {
    "kernelspec": {
      "name": "javascript",
      "display_name": "JavaScript (Web Worker)",
      "language": "javascript"
    },
    "language_info": {
      "codemirror_mode": {
        "name": "javascript"
      },
      "file_extension": ".js",
      "mimetype": "text/javascript",
      "name": "javascript",
      "nbconvert_exporter": "javascript",
      "pygments_lexer": "javascript",
      "version": "es2017"
    }
  },
  "nbformat_minor": 4,
  "nbformat": 4,
  "cells": [
    {
      "cell_type": "markdown",
      "source": "# Revisão e exercícios com funções",
      "metadata": {
        "tags": [],
        "editable": true,
        "slideshow": {
          "slide_type": ""
        }
      }
    },
    {
      "cell_type": "markdown",
      "source": "### Revisão Funções\n\n- declaramos uma função usando a instrução `function`\n- após `function` escrevemos o nome da função sequido de parênteses `()`\n- se a função receber parâmetros, os nomes deles são escritos entre os parênteses\n- o código da função é escrito entre as chaves `{}`\n- usamos uma função \"chamando\" ela pelo nome, seguido de parênteses\n- funções podem retornar valores para quem as chamou usando a instrução `return`\n\n#### Exemplos: \n\n1. Declaração de uma função sem parâmetros\n\n```js\nfunction dizOi() {\n  console.log(\"Oi, eu sou uma função em parâmetros\")\n}\n```\n\n2. Chamada a uma função sem parâmetros\n\n```js\ndizOi()\n```\n\n\n3. Declaração de uma função com \n\n```js\nfunction dizOi(nome) {\n    console.log(\"Oi, \" + nome)\n}\n```\n\n4. Chamada a uma função com parâmetros\n\n```js\ndizOi(\"Joaquim\")\n```\n\n5. Declaração de uma função com 2 parâmetros e que retorna um valor\n\n```js\nfunction soma2(valor1, valor2) {\n    let resultado = valor1 + valor2\n    return resultado\n}\n```\n\n6. Chamada a uma função que retorna um valor",
      "metadata": {
        "tags": [],
        "editable": true,
        "slideshow": {
          "slide_type": ""
        }
      }
    },
    {
      "cell_type": "code",
      "source": "function dizOi() {\n    console.log(\"<p>\")\n    console.log(\"Olá, velhinho!\")\n    console.log(\"</p>\")\n\n}\n\ndizOi()\ndizOi()\ndizOi()\ndizOi()\n\n",
      "metadata": {
        "trusted": true
      },
      "outputs": [
        {
          "name": "stdout",
          "text": "<p>\nOlá, velhinho!\n</p>\n<p>\nOlá, velhinho!\n</p>\n<p>\nOlá, velhinho!\n</p>\n<p>\nOlá, velhinho!\n</p>\n",
          "output_type": "stream"
        },
        {
          "execution_count": 17,
          "output_type": "execute_result",
          "data": {},
          "metadata": {}
        }
      ],
      "execution_count": 18
    },
    {
      "cell_type": "code",
      "source": "function dizOi(nome) {\n    console.log(\"Oi, \" + nome)\n}\n\ndizOi('Ana')\ndizOi('Joaquim')\ndizOi('Gustavo')\nconsole.log(\"fim\")\n",
      "metadata": {
        "trusted": true
      },
      "outputs": [
        {
          "name": "stdout",
          "text": "Oi, Ana\nOi, Joaquim\nOi, Gustavo\nfim\n",
          "output_type": "stream"
        },
        {
          "execution_count": 23,
          "output_type": "execute_result",
          "data": {},
          "metadata": {}
        }
      ],
      "execution_count": 25
    },
    {
      "cell_type": "code",
      "source": "let resultadoDaFuncao\n\n// chamamos a função soma2() e\n// guardamos a resposta da função\n// na variável resultadoDaFuncao\n\nresultadoDaFuncao = soma2(20, 30)\n\n// o valor da variável resultadoDaFuncao deve ser 50\n\nconsole.log(resultadoDaFuncao)",
      "metadata": {
        "trusted": true
      },
      "outputs": [],
      "execution_count": null
    },
    {
      "cell_type": "code",
      "source": "function soma2(valor1, valor2) {\n    let resultado = valor1 + valor2\n    return resultado\n}\n\nlet valor = soma2(3, 4)\nconsole.log(\"valor é: \" + valor)",
      "metadata": {
        "trusted": true
      },
      "outputs": [
        {
          "name": "stdout",
          "text": "valor é: 7\n",
          "output_type": "stream"
        },
        {
          "execution_count": 24,
          "output_type": "execute_result",
          "data": {},
          "metadata": {}
        }
      ],
      "execution_count": 27
    },
    {
      "cell_type": "code",
      "source": "function meuNomeEh() {\n    return \"Gustavo\"\n}\n\nconsole.log(meuNomeEh())",
      "metadata": {
        "trusted": true
      },
      "outputs": [
        {
          "name": "stdout",
          "text": "Gustavo\n",
          "output_type": "stream"
        },
        {
          "execution_count": 27,
          "output_type": "execute_result",
          "data": {},
          "metadata": {}
        }
      ],
      "execution_count": 30
    },
    {
      "cell_type": "markdown",
      "source": "### Exercícios\n\n**Instruções**\n\n- Escreva sua resposta nas células abaixo.\n- Seu código deve ir *entre os comentários* `// Inicio` e `// Fim`.\n- Não modifique a última linha. Ela está lá para testar sua resposta e ajudar você a corrigí-la mais ajuda.\n- Para testar basta executar o código dando o comando `ctrl+ENTER`. \n",
      "metadata": {
        "tags": [],
        "editable": true,
        "slideshow": {
          "slide_type": ""
        }
      }
    },
    {
      "cell_type": "markdown",
      "source": "1. Crie uma função chamada `dizOi()`, sem parâmetros. Ela deve retornar a string `Oi!`",
      "metadata": {}
    },
    {
      "cell_type": "code",
      "source": "// Inicio\nfunction dizOi() {\n    return \"Oi!\"\n}\n\n\n// Fim\n// Não modifique a linha abaixo\ndizOi()===\"Oi!\"?\"👍\":\"👎\"",
      "metadata": {
        "trusted": true,
        "tags": [],
        "editable": true,
        "slideshow": {
          "slide_type": ""
        }
      },
      "outputs": [
        {
          "execution_count": 31,
          "output_type": "execute_result",
          "data": {
            "text/plain": "'👍'"
          },
          "metadata": {}
        }
      ],
      "execution_count": 34
    },
    {
      "cell_type": "markdown",
      "source": "2. Escreva o corpo da função `media` que está declarada abaixo. Ela recebe três parâmetros chamados: `nota1`, `nota2`, `nota3`. Está faltando escrever o código que:\n\n- calcula o valor da média dos 3 parâmetros\n- retorna o valor calculado",
      "metadata": {}
    },
    {
      "cell_type": "code",
      "source": "function media(nota1, nota2, nota3) {\n// Inicio    \nlet media = (nota1+nota2+nota3) / 3\nreturn media\n// Fim\n}\n// Não modifique a linha abaixo\nmedia(7,8,9)===8 && media(5,5,5)===5 ?\"👍\":\"👎\"",
      "metadata": {
        "trusted": true,
        "tags": [],
        "editable": true,
        "slideshow": {
          "slide_type": ""
        }
      },
      "outputs": [
        {
          "execution_count": 39,
          "output_type": "execute_result",
          "data": {
            "text/plain": "'👍'"
          },
          "metadata": {}
        }
      ],
      "execution_count": 42
    },
    {
      "cell_type": "markdown",
      "source": "3 . A área de um quadrado é calculada pela expressão `lado*lado`. A função abaixo recebe o valor do lado de um quadrado.\n\n- calcule o valor da área\n- retorne o valor",
      "metadata": {}
    },
    {
      "cell_type": "code",
      "source": "function areaDoQuadrado(lado) {\n// Inicio    \n    let area = lado * lado\n    return area\n// Fim\n}\n// Não modifique a linha abaixo\nareaDoQuadrado(4)===16 && areaDoQuadrado(2)===4?\"👍\":\"👎\"",
      "metadata": {
        "trusted": true
      },
      "outputs": [
        {
          "execution_count": 47,
          "output_type": "execute_result",
          "data": {
            "text/plain": "'👍'"
          },
          "metadata": {}
        }
      ],
      "execution_count": 50
    },
    {
      "cell_type": "markdown",
      "source": "4. Escreva a função `area(l, a)` que retorna a área de uma figura que tem largura='l' e altura='a'\n\n> área = largura * altura",
      "metadata": {}
    },
    {
      "cell_type": "code",
      "source": "// Inicio    \nfunction area(l, a) {\n    return l * a\n}\n// Fim\n// Não modifique a linha abaixo\narea(10,4)===40 && area(3,10)===30?\"👍\":\"👎\"",
      "metadata": {
        "trusted": true
      },
      "outputs": [
        {
          "execution_count": 46,
          "output_type": "execute_result",
          "data": {
            "text/plain": "'👍'"
          },
          "metadata": {}
        }
      ],
      "execution_count": 49
    }
  ]
}