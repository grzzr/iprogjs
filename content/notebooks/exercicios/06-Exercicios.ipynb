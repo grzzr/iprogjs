{
  "metadata": {
    "kernelspec": {
      "name": "javascript",
      "display_name": "JavaScript (Web Worker)",
      "language": "javascript"
    },
    "language_info": {
      "codemirror_mode": {
        "name": "javascript"
      },
      "file_extension": ".js",
      "mimetype": "text/javascript",
      "name": "javascript",
      "nbconvert_exporter": "javascript",
      "pygments_lexer": "javascript",
      "version": "es2017"
    }
  },
  "nbformat_minor": 4,
  "nbformat": 4,
  "cells": [
    {
      "cell_type": "markdown",
      "source": "# Exercícios\n",
      "metadata": {}
    },
    {
      "cell_type": "markdown",
      "source": "1. Escreva um programa que testa se o valor de um CPF tem o comprimento esperado de 11 caracteres. Faça isso baseado no exemplo abaixo:\n\n```js\n/*Testa se o RG tem algum valor/comprimento\n*/\n\nconst rg = \"\"\n\nif(rg.length > 0) {\n\tconsole.info(\"RG é não vazio\")\n} else {\n\tconsole.info(\"RG é inválido\")\n}\n\n```` ",
      "metadata": {}
    },
    {
      "cell_type": "code",
      "source": "",
      "metadata": {
        "trusted": true
      },
      "outputs": [],
      "execution_count": null
    },
    {
      "cell_type": "markdown",
      "source": "2. Escreva um programa que testa se uma string de CPF contem os caracteres \".\" e \"-\" nas posições esperadas (999.999.999-99)\n\nFaça isso baseando-se no exemplo de código abaixo, que usa indexação de strings para acessar um caracter da string em um indice específico.\n\n```js\n// Testa se a string inicia pela letra A\nlet palavra = \"baleia\"\nlet posicaoDaLetra = 0 // 0 corresponde ao início da palavra\n\nif (palavra[posicaoDaLetra] == \"A\") {\n    console.info(\"Sim, a palavra inicia pela letra 'A'\")\n} else {\n    console.info(\"Não. A palavra não inicia pela letra 'A'\")\n}\n```",
      "metadata": {}
    },
    {
      "cell_type": "code",
      "source": "",
      "metadata": {
        "trusted": true
      },
      "outputs": [],
      "execution_count": null
    },
    {
      "cell_type": "markdown",
      "source": "3. Escreva um programa que percorre uma string e imprime no console caractere por caractere dessa string (um por linha).\n\nFaça isso baseado no programa abaixo:\n\n```js\nlet letra = \"a\"\nlet palavraSecreta = \"baleia\"\n\n// Vamos fazer um loop que passa caractere por caractere\n// da string procurando a palavra\n\nfor (let i=0; i<palavraSecreta.length; i++) {\n\t// Se encontra a letra na posicao i da palavraSecreta..\n\tif(palavraSecreta[i] == letra) {\n    //.. escreve no console \"Encontrei a letra!\"\n        console.info(\"Encontrei a letra!\")\n\t}\n}\n\n```",
      "metadata": {}
    },
    {
      "cell_type": "markdown",
      "source": "4. Escreva um programa que responde \"Sim\" ou \"Não\" se uma string termina pelo caractere \"*\"\n\nDica:\n\n```js\n// Para saber qual o valor do último caractere de uma string\nbrowserType[browserType.length - 1];\n```\n\n[fonte - Developer Mozzila](https://developer.mozilla.org/pt-BR/docs/Learn/JavaScript/First_steps/Useful_string_methods)",
      "metadata": {}
    },
    {
      "cell_type": "markdown",
      "source": "5. Escreva um programa que diz \"Email inválido\" se uma string com um email contiver a substring \"gmail.com\".\n\nDica:",
      "metadata": {}
    },
    {
      "cell_type": "code",
      "source": "let browserType = \"Mozilla\";\n// a expressão abaixo retorna true caso indexOf retorne um valor positivo - indicando que a substring foi encontrada na string\nconsole.info(browserType.indexOf(\"zilla\") > 0);",
      "metadata": {
        "trusted": true
      },
      "outputs": [
        {
          "name": "stdout",
          "text": "false\n",
          "output_type": "stream"
        },
        {
          "execution_count": 3,
          "output_type": "execute_result",
          "data": {},
          "metadata": {}
        }
      ],
      "execution_count": 3
    },
    {
      "cell_type": "markdown",
      "source": "6. Baseado no código abaixo, escreva um programa que procura a palavra sigilosa no texto e substitui ela por asteriscos '*'. O programa deve imprimir no console texto resultante.\n\n```js\nconst texto = `\nMussum Ipsum, cacilds vidis litro abertis.  Copo furadis é disculpa de bebadis, arcu quam euismod magna. Mais vale um bebadis conhecidiss, que um alcoolatra anonimis. Aenean aliquam molestie leo, vitae iaculis nisl. Per aumento de cachacis, eu reclamis.\n\nPellentesque nec nulla ligula. Donec gravida turpis a vulputate ultricies. Delegadis gente finis, bibendum egestas augue arcu ut est. Copo furadis é disculpa de bebadis, arcu quam euismod magna. Interagi no mé, cursus quis, vehicula ac nisi.\n\nNullam volutpat risus nec leo commodo, ut interdum diam laoreet. Sed non consequat odio. Quem manda na minha terra sou euzis! Quem num gosta di mé, boa gentis num é. Detraxit consequat et quo num tendi nada.\n`\nconst palavraSigilosa = \"escolha uma palavra você mesmo\"\n```",
      "metadata": {}
    },
    {
      "cell_type": "code",
      "source": "",
      "metadata": {
        "trusted": true
      },
      "outputs": [],
      "execution_count": null
    }
  ]
}