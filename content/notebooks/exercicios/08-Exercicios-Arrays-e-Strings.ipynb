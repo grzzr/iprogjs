{
  "metadata": {
    "kernelspec": {
      "name": "javascript",
      "display_name": "JavaScript (Web Worker)",
      "language": "javascript"
    },
    "language_info": {
      "codemirror_mode": {
        "name": "javascript"
      },
      "file_extension": ".js",
      "mimetype": "text/javascript",
      "name": "javascript",
      "nbconvert_exporter": "javascript",
      "pygments_lexer": "javascript",
      "version": "es2017"
    }
  },
  "nbformat_minor": 4,
  "nbformat": 4,
  "cells": [
    {
      "cell_type": "markdown",
      "source": "# Exercícios - Strings e Arrays\n\nEstes exercícios usam o pacote `readline-sync`. O código para importar o pacote foi omitido dos exemplos por brevidade.\n\n## Instruções para começar o trabalho\nPara fazer os exercícios você precisa:\n\n1. nodejs instalado\n2. criar um diretório\n3. nesse diretório, instalar o `readline-sync` usando o `npm`\n\nA linha de comando é:\n\n  ```sh\n  npm install readline-sync\n\n  ```\n\n3. em cada um de seus programas, carregue o pacote 'readline-sync' incluindo no começo do programa a linha:\n\n  ```js\n  const rl = require('readline-sync');\n  ```\n\n## Interpretação de código\n\n1. Diga quais mensagens serão escritas na tela\n\n    ```js\n    let array\n    console.log('a. ', array)\n\n    array = null\n    console.log('b. ', array)\n\n    array = [3, 4, 5, 6, 7, 8, 9, 10, 11, 12, 13]\n    console.log('c. ', array.length)\n\n    let i = 0\n    console.log('d. ', array[i])\n\n    array[i+1] = 19\n    console.log('e. ', array)\n\n    const valor = array[i+6]\n    console.log('f. ', valor)\n    ```\n    \n1. No código abaixo, qual será o valor impresso no console se a entrada do usuário for: `\"Socorram-me! Subi no ônibus em Marrocos.\"`?\n\n    ```js\n    const frase = prompt(\"Digite uma frase\")\n\n    console.log(frase.toUpperCase().replaceAll(\"A\", \"I\"), frase.length)\n    ```\n\n## Escrita de código\n\n1. Faça um programa que pergunte ao usuário seu nome e seu e-mail. Cada resposta deve ser guardada, respectivamente, em uma variável chamada `nomeDoUsuario` e `emailDoUsuario`. Em seguida, Imprima no console a seguinte mensagem, substituindo o valor das variáveis onde for apropriado:\n\n    ```\n    O e-mail emailDoUsuario foi cadastrado com sucesso. Seja bem-vinda(o), nomeDoUsuario!\n    ```\n\n1. Faça um programa que contenha um array com 5 das suas comidas preferidas, armazenado em uma variável. Em seguida, siga os passos:\n\n    - Imprima no console o array completo\n    - Imprima no console a mensagem \"Essas são as minhas comidas preferidas: \", seguida por cada uma das comidas, **uma embaixo da outra**.\n    - Pergunte ao usuário uma comida preferida. Troque a segunda comida da sua lista pela inserida pelo usuário. Imprima no console a nova lista.\n\n1. Faça um programa que:\n    - Crie um array vazio e guarde-o em uma variável, chamada `listaDeTarefas`\n    - Pergunte ao usuário 3 tarefas que ele precise realizar no dia e armazene-as, uma por uma, no array\n    - Imprima o array no console\n    - Peça ao usuário que digite o índice de uma tarefa que ele já realizou: 0, 1 ou 2 \n    - Remova da lista o item de índice que o usuário escolheu.\n    - Imprima o array no console\n💡\n\n    Para remover um item de um array, você pode utilizar a função splice() (consulte a [documentação na MDN](https://developer.mozilla.org/pt-BR/docs/Web/JavaScript/Reference/Global_Objects/Array/splice) para ver exemplos).\n\n1. Escreva um programa que recebe pelo teclado uma frase e retorna um array onde cada elemento é uma das palavras da frase, ignorando os espaços.\n\n    > Dica: Existe uma função que cria um array a partir de uma string, onde cada elemento do array criado é uma palavra da string. Procure na MDN ou na internet qual é essa função.\n\n1. Dado o array [\"Banana\", \"Morango\", \"Abacaxi\", \"Laranja\", \"Ameixa\"], faça um programa que ache o índice da palavra Abacaxi e imprima tanto o índice quanto o tamanho do array. ",
      "metadata": {}
    }
  ]
}