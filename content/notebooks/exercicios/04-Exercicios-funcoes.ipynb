{
  "metadata": {
    "kernelspec": {
      "name": "javascript",
      "display_name": "JavaScript (Web Worker)",
      "language": "javascript"
    },
    "language_info": {
      "codemirror_mode": {
        "name": "javascript"
      },
      "file_extension": ".js",
      "mimetype": "text/javascript",
      "name": "javascript",
      "nbconvert_exporter": "javascript",
      "pygments_lexer": "javascript",
      "version": "es2017"
    }
  },
  "nbformat_minor": 4,
  "nbformat": 4,
  "cells": [
    {
      "cell_type": "markdown",
      "source": "# Revisão e exercícios com funções",
      "metadata": {
        "tags": [],
        "editable": true,
        "slideshow": {
          "slide_type": ""
        }
      }
    },
    {
      "cell_type": "markdown",
      "source": "### Revisão Funções\n\n- declaramos uma função usando a instrução `function`\n- após `function` escrevemos o nome da função sequido de parênteses `()`\n- se a função receber parâmetros, os nomes deles são escritos entre os parênteses\n- o código da função é escrito entre as chaves `{}`\n- usamos uma função \"chamando\" ela pelo nome, seguido de parênteses\n- funções podem retornar valores para quem as chamou usando a instrução `return`\n\n#### Exemplos: \n\n1. Declaração de uma função sem parâmetros\n\n```js\nfunction dizOi() {\n  console.log(\"Oi, eu sou uma função em parâmetros\")\n}\n```\n\n2. Chamada a uma função sem parâmetros\n\n```js\ndizOi()\n```\n\n\n3. Declaração de uma função com \n\n```js\nfunction dizOi(nome) {\n    console.log(\"Oi, \" + nome)\n}\n```\n\n4. Chamada a uma função com parâmetros\n\n```js\ndizOi(\"Joaquim\")\n```\n\n5. Declaração de uma função com 2 parâmetros e que retorna um valor\n\n```js\nfunction soma2(valor1, valor2) {\n    let resultado = valor1 + valor2\n    return resultado\n}\n```\n\n6. Chamada a uma função que retorna um valor",
      "metadata": {
        "tags": [],
        "editable": true,
        "slideshow": {
          "slide_type": ""
        }
      }
    },
    {
      "cell_type": "code",
      "source": "let resultadoDaFuncao\n\n// chamamos a função soma2() e\n// guardamos a resposta da função\n// na variável resultadoDaFuncao\n\nresultadoDaFuncao = soma2(20, 30)\n\n// o valor da variável resultadoDaFuncao deve ser 50\n\nconsole.log(resultadoDaFuncao)",
      "metadata": {
        "trusted": true
      },
      "outputs": [],
      "execution_count": null
    },
    {
      "cell_type": "markdown",
      "source": "### Exercícios\n\n**Instruções**\n\n- Escreva sua resposta nas células abaixo.\n- Seu código deve ir *entre os comentários* `// Inicio` e `// Fim`.\n- Não modifique a última linha. Ela está lá para testar sua resposta e ajudar você a corrigí-la mais ajuda.\n- Para testar basta executar o código dando o comando `ctrl+ENTER`. \n",
      "metadata": {
        "tags": [],
        "editable": true,
        "slideshow": {
          "slide_type": ""
        }
      }
    },
    {
      "cell_type": "markdown",
      "source": "1. Crie uma função chamada `dizOi()`, sem parâmetros. Ela deve retornar a string `Oi!`",
      "metadata": {}
    },
    {
      "cell_type": "code",
      "source": "// Inicio\n\n\n\n// Fim\n// Não modifique a linha abaixo\ndizOi()===\"Oi!\"?\"👍\":\"👎\"",
      "metadata": {
        "trusted": true,
        "tags": [],
        "editable": true,
        "slideshow": {
          "slide_type": ""
        }
      },
      "outputs": [],
      "execution_count": null
    },
    {
      "cell_type": "markdown",
      "source": "2. Escreva o corpo da função `media` que está declarada abaixo. Ela recebe três parâmetros chamados: `nota1`, `nota2`, `nota3`. Está faltando escrever o código que:\n\n- calcula o valor da média dos 3 parâmetros\n- retorna o valor calculado",
      "metadata": {}
    },
    {
      "cell_type": "code",
      "source": "function media(nota1, nota2, nota3) {\n// Inicio    \n\n    \n// Fim\n}\n// Não modifique a linha abaixo\nmedia(7,9,8)===8?\"👍\":\"👎\"",
      "metadata": {
        "trusted": true,
        "tags": [],
        "editable": true,
        "slideshow": {
          "slide_type": ""
        }
      },
      "outputs": [],
      "execution_count": null
    },
    {
      "cell_type": "markdown",
      "source": "3 . A área de um quadrado é calculada pela expressão `lado*lado`. A função abaixo recebe o valor do lado de um quadrado.\n\n- calcule o valor da área\n- retorne o valor",
      "metadata": {}
    },
    {
      "cell_type": "code",
      "source": "function areaDoQuadrado(lado) {\n// Inicio    \n\n// Fim\n}\n// Não modifique a linha abaixo\nareaDoQuadrado(4)===16?\"👍\":\"👎\"",
      "metadata": {
        "trusted": true
      },
      "outputs": [],
      "execution_count": null
    },
    {
      "cell_type": "markdown",
      "source": "4. Escreva a função `area(l, a)` que retorna a área de uma figura que tem largura='l' e altura='a'",
      "metadata": {}
    },
    {
      "cell_type": "code",
      "source": "// Inicio    \n\n    \n// Fim\n// Não modifique a linha abaixo\narea(10,4)===40?\"👍\":\"👎\"",
      "metadata": {
        "trusted": true
      },
      "outputs": [],
      "execution_count": null
    }
  ]
}