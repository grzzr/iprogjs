{
  "metadata": {
    "kernelspec": {
      "name": "javascript",
      "display_name": "JavaScript (Web Worker)",
      "language": "javascript"
    },
    "language_info": {
      "codemirror_mode": {
        "name": "javascript"
      },
      "file_extension": ".js",
      "mimetype": "text/javascript",
      "name": "javascript",
      "nbconvert_exporter": "javascript",
      "pygments_lexer": "javascript",
      "version": "es2017"
    }
  },
  "nbformat_minor": 4,
  "nbformat": 4,
  "cells": [
    {
      "cell_type": "markdown",
      "source": "# Operações com strings e números",
      "metadata": {}
    },
    {
      "cell_type": "markdown",
      "source": "## Escrever e rodar",
      "metadata": {}
    },
    {
      "cell_type": "code",
      "source": "console.log('Operações de adição:')\nconsole.log(2 + 2)\nconsole.log(4 + 1.5)\nconsole.log('ab' + 'cd')\nconsole.log('ab' + 2)\n\nconsole.log('Operações de subtração:')\nconsole.log(2 - 2)\nconsole.log(4 - 1.5)\nconsole.log('ab' - 'cd')\nconsole.log('ab' - 2)\n",
      "metadata": {
        "trusted": true
      },
      "outputs": [],
      "execution_count": null
    },
    {
      "cell_type": "code",
      "source": "",
      "metadata": {
        "trusted": true
      },
      "outputs": [],
      "execution_count": null
    },
    {
      "cell_type": "markdown",
      "source": "## Observações\n\n1. Muito código repetido! console.log(), console.log()...\n1. A operação de adição faz coisas diferentes quando os valores que usamos são números ou strings.\n    - Números: soma\n    - Strings: concatena (junta uma após a outra)\n1. O + concatenou mesmo quando apenas um dos valores era uma string, como foi o caso na linha de código console.log('a' + 2), que teve como resultado ab2\n1. A operação de subtração não funcionou com strings mas com números sim\n1. Ao invés de separar os decimais com , usamos .\n\n> `NaN` significa 'Not a Number' (Não é um Número). Aqui, esse resultado representa um erro de operação. Era esperado um número mas o que o computador encontrou não era um número.\n\nNo código temos os seguintes tipos de dados\n\n- Números inteiros: 0, 4...\n- Números decimais: 2.5, 5.5...\n- Strings: abcd, ab2...\n\nStrings são escritas entre aspas e números não.\n\nSe colocarmos um número entre aspas ele também será uma string.\n\n## Experimento: Melhorando a apresentação dos dados\n\nVamos colocar na mesma linha a mensagem e o resultado da operação do programa do lab anterior.\n\nConcatenar mensagem e resultado da operação\n\nExperimente rodar o código abaixo e ver o resultado",
      "metadata": {}
    },
    {
      "cell_type": "code",
      "source": "console.log('20 x 5 é igual a:' + 20 * 5)\n",
      "metadata": {
        "trusted": true
      },
      "outputs": [],
      "execution_count": null
    }
  ]
}