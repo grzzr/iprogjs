{
  "metadata": {
    "kernelspec": {
      "name": "p5js",
      "display_name": "p5.js",
      "language": "javascript"
    },
    "language_info": {
      "codemirror_mode": {
        "name": "javascript"
      },
      "file_extension": ".js",
      "mimetype": "text/javascript",
      "name": "p5js",
      "nbconvert_exporter": "javascript",
      "pygments_lexer": "javascript",
      "version": "es2017"
    }
  },
  "nbformat_minor": 4,
  "nbformat": 4,
  "cells": [
    {
      "cell_type": "markdown",
      "source": "# Funções para trabalhar com gráficos",
      "metadata": {}
    },
    {
      "cell_type": "markdown",
      "source": "## createCanvas(largura, altura)\n\nÉ usada apenas uma vez e é escrita na função `setup()`.\n\nEsta função cria uma tela (canvas) para desenho.\n\n- largura - é um número que representa a largura em pixels da tela\n- altura - é um número que representa a altura em pixels da tela",
      "metadata": {}
    },
    {
      "cell_type": "code",
      "source": "function setup() {\n  createCanvas(100, 100);\n\n}",
      "metadata": {
        "trusted": true
      },
      "outputs": [],
      "execution_count": 3
    },
    {
      "cell_type": "markdown",
      "source": "## circle(x, y, diâmetro)\n\nDesenha um circulo.\n\nUm circulo é uma forma arredondada definida pelos parâmetros x, y e d. \n\n- x e y determinam a posição na tela (canvas) do centro do círculo\n- diâmetro determina a largura e altura do círculo (iguais)",
      "metadata": {}
    },
    {
      "cell_type": "code",
      "source": "function setup() {\n  createCanvas(100, 100);\n\n  circle(50, 50, 25);\n}",
      "metadata": {
        "trusted": true
      },
      "outputs": [],
      "execution_count": 5
    },
    {
      "cell_type": "markdown",
      "source": "",
      "metadata": {}
    },
    {
      "cell_type": "markdown",
      "source": "## ellipse(x, y, largura, altura)\n\nDesenha uma elipse (oval).\n\n\n- x e y determinam a posição na tela (canvas) do centro da elipse\n- largura e altura determina a largura e altura da elipse (iguais ou diferentes)\n\n",
      "metadata": {}
    },
    {
      "cell_type": "code",
      "source": "function setup() {\n  createCanvas(100, 100);\n\n  background(100);\n\n  ellipse(50, 50, 50, 80);\n}",
      "metadata": {
        "trusted": true
      },
      "outputs": [],
      "execution_count": 12
    },
    {
      "cell_type": "markdown",
      "source": "## square(x, y, lado)\n\nDesenha um quadrado\n\n- x e y são a posição do canto superior esquerdo do quadrado\n- lado é o tamanho em pixels do lado do quadrado",
      "metadata": {}
    },
    {
      "cell_type": "code",
      "source": "function setup() {\n  createCanvas(200, 200);\n\n  background(100);\n\n  square(10, 10, 80);\n}",
      "metadata": {
        "trusted": true
      },
      "outputs": [],
      "execution_count": 16
    },
    {
      "cell_type": "code",
      "source": "%show",
      "metadata": {
        "trusted": true,
        "scrolled": true
      },
      "outputs": [
        {
          "execution_count": 20,
          "output_type": "display_data",
          "data": {
            "text/html-sandboxed": "<body style=\"overflow: hidden;\">\n<script>\n        \n    import('https://cdn.jsdelivr.net/npm/p5@1.4.2/lib/p5.js').then(() => {\n      // create the p5 global instance\n      window.__globalP5 = new p5();\n      return Promise.resolve();\n    })\n  .then(() => {\n          try {\nwindow.eval(`function setup() {\n  createCanvas(100, 100);\n\n  background(200);\n\n  circle(50, 50, 25);\n}`);\n} catch(e) {}\ntry {\nwindow.eval(`function setup() {\n  createCanvas(100, 100);\n\n}`);\n} catch(e) {}\ntry {\nwindow.eval(`function setup() {\n  createCanvas(100, 100);\n\n  circle(50, 50, 25);\n}`);\n} catch(e) {}\ntry {\nwindow.eval(`function setup() {\n  createCanvas(100, 100);\n\n  background(200);\n\n  ellipse(150, 50, 80, 80);\n}`);\n} catch(e) {}\ntry {\nwindow.eval(`function setup() {\n  createCanvas(100, 100);\n\n  background(0);\n\n  ellipse(150, 50, 80, 80);\n}`);\n} catch(e) {}\ntry {\nwindow.eval(`function setup() {\n  createCanvas(100, 100);\n\n  background(0);\n\n  ellipse(50, 50, 40, 80);\n}`);\n} catch(e) {}\ntry {\nwindow.eval(`function setup() {\n  createCanvas(100, 100);\n\n  background(0);\n\n  ellipse(50, 50, 50, 80);\n}`);\n} catch(e) {}\ntry {\nwindow.eval(`function setup() {\n  createCanvas(100, 100);\n\n  background(200);\n\n  ellipse(50, 50, 50, 80);\n}`);\n} catch(e) {}\ntry {\nwindow.eval(`function setup() {\n  createCanvas(100, 100);\n\n  background(100);\n\n  ellipse(50, 50, 50, 80);\n}`);\n} catch(e) {}\ntry {\nwindow.eval(`function setup() {\n  createCanvas(100, 100);\n\n  background(100);\n\n  square(50, 50, 80);\n}`);\n} catch(e) {}\ntry {\nwindow.eval(`function setup() {\n  createCanvas(100, 100);\n\n  background(100);\n\n  square(10, 10, 80);\n}`);\n} catch(e) {}\ntry {\nwindow.eval(`function setup() {\n  createCanvas(200, 200);\n\n  background(100);\n\n  square(10, 10, 80);\n}`);\n} catch(e) {}\ntry {\nwindow.eval(`function setup() {\n  createCanvas(100, 100);\n\n  background(200);\n\n  // linha do topo\n  line(20, 20, 80, 20);\n\n  // linha do meio\n  strokeWeight(4);\n  line(20, 40, 80, 40);\n\n  // linha de baixo\n  strokeWeight(10);\n  line(20, 70, 80, 70);  \n}`);\n} catch(e) {}\ntry {\nwindow.eval(`function setup() {\n  createCanvas(100, 100);\n\n  background(200);\n\n  // linha do topo\n  line(20, 20, 80, 20);\n\n  // linha do meio\n  line(20, 40, 80, 40);\n\n  // linha de baixo\n  line(20, 70, 80, 70);  \n}`);\n} catch(e) {}\n          window.__globalP5._start();\n        })\n      </script>\n</body>"
          },
          "metadata": {
            "text/html-sandboxed": {}
          }
        }
      ],
      "execution_count": 14
    },
    {
      "cell_type": "markdown",
      "source": "## line(xInicial, yInicial, xFinal, yFinal)\n\nDesenha uma linha que vai do ponto `(xInicial, yInicial)` até o ponto `(xFinal, yFinal)`.\n",
      "metadata": {}
    },
    {
      "cell_type": "code",
      "source": "function setup() {\n  createCanvas(100, 100);\n\n  background(200);\n\n  // linha do topo\n  line(20, 20, 80, 20);\n\n  // linha do meio\n  line(20, 40, 80, 40);\n\n  // linha de baixo\n  line(20, 70, 80, 70);  \n}",
      "metadata": {
        "trusted": true
      },
      "outputs": [],
      "execution_count": 19
    },
    {
      "cell_type": "markdown",
      "source": "## stroke(cor)\n\nMuda a cor da linha usada para desenhar\n\n`cor`\n- valor de 0 a 255 para tons de cinza (0=preto, 255=branco)\n- 3 valores RGB para formar todas as cores. Veja abaixo a referência.\n  ",
      "metadata": {}
    },
    {
      "cell_type": "code",
      "source": "function setup() {\n  createCanvas(100, 100);\n\n  background(200);\n\n  // Use HSB color.\n  colorMode(HSB);\n\n  // H, S & B values.\n  strokeWeight(4);\n  stroke(255, 204, 100);\n  square(20, 20, 60);\n}",
      "metadata": {
        "trusted": true
      },
      "outputs": [],
      "execution_count": null
    },
    {
      "cell_type": "markdown",
      "source": "## strokeWeight(largura)\n\nMuda a largura do traço usado para desenhar.\n\n- largura é o tamanho em pixels do traço\n\n",
      "metadata": {}
    },
    {
      "cell_type": "code",
      "source": "function setup() {\n  createCanvas(100, 100);\n\n  background(200);\n\n  // linha do topo\n  line(20, 20, 80, 20);\n\n  // linha do meio\n  strokeWeight(4);\n  line(20, 40, 80, 40);\n\n  // linha de baixo\n  strokeWeight(10);\n  line(20, 70, 80, 70);  \n}",
      "metadata": {
        "trusted": true
      },
      "outputs": [],
      "execution_count": null
    },
    {
      "cell_type": "markdown",
      "source": "## fill(cor)\n\nMuda a cor de preenchimento usada para desenhar uma figura (circulo, elipse, retângulo...)\n\n`cor`\n- valor de 0 a 255 para tons de cinza (0=preto, 255=branco)\n- 3 valores RGB para formar todas as cores. Veja abaixo a referência.\n  ",
      "metadata": {}
    },
    {
      "cell_type": "code",
      "source": "function setup() {\n  createCanvas(100, 100);\n\n  background(200);\n\n  // R, G & B values.\n  fill(255, 204, 0);\n  square(20, 20, 60);\n}",
      "metadata": {
        "trusted": true
      },
      "outputs": [],
      "execution_count": null
    },
    {
      "cell_type": "markdown",
      "source": "## Cores RGB\n\nOs três valores que passamos como parâmetro para `background()` representam níveis diferentes de `Vermelho`, `Verde` e `Azul` que, quando compostos formam todas as cores que o monitor do computador consegue mostrar.\n\n- R, red = Vermelho\n- G, green = Verde\n- B, blue = Azul\n\nCada ponto colorido na tela é formado pela combinação das três cores primárias, RGB.\n\nCada cor tem um nível de <code>intensidade</code>, que pode ir do <code>0</code> (mais fraca, mais dessaturada) até <code>255</code> (mais forte, mais saturada)\n\n#### Exemplos\n\n- (R, G, B) ---> (255, 0, 0) - vermelho com intensidade máxima\n- (R, G, B) ---> (255, 0, 255) - magenta com intensidade máxima\n- (R, G, B) ---> (128, 0, 128) - magenta com intensidade média\n",
      "metadata": {}
    }
  ]
}