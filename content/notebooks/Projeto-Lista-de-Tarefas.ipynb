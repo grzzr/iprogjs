{
  "metadata": {
    "kernelspec": {
      "name": "javascript",
      "display_name": "JavaScript (Web Worker)",
      "language": "javascript"
    },
    "language_info": {
      "codemirror_mode": {
        "name": "javascript"
      },
      "file_extension": ".js",
      "mimetype": "text/javascript",
      "name": "javascript",
      "nbconvert_exporter": "javascript",
      "pygments_lexer": "javascript",
      "version": "es2017"
    }
  },
  "nbformat_minor": 4,
  "nbformat": 4,
  "cells": [
    {
      "cell_type": "markdown",
      "source": "# ![Mago](../img/mago-64px.png) Projeto - Lista de tarefas\n\nVamos fazer um programa que cria um arquivo CSV com uma lista de tarefas a fazer.\n\nO programa roda em um loop. A cada iteração do loop o programa pede ao usuário que digite uma tarefa a fazer.\n\nApós, o programa guarda a tarefa em um array.\n\nO programa então pergunta se o usuário quer continuar inserindo tarefas. Se quiser, volta ao início do loop; se não quiser, salva as tarefas armazenadas no array em um arquivo de texto e depois termina o programa.\n\n## O loop do programa\n\n```js\nconst rl = require('readline-sync');\nlet continuar = 's';\n\nwhile(continuar=='s') {\n        continuar = rl.question('Continuar (s/n)? ');\n}\n\nconsole.log('Fim do programa');\n```\n\n## Inserindo uma tarefa.\n\nPrecisamos do array de tarefas.\n\n```js\nconst rl = require('readline-sync');\n//Array de tarefas. Inicialmente vazio.\nconst tarefas = [];\n\nlet continuar = 's';\n\nwhile(continuar=='s') {\n        continuar = rl.question('Continuar (s/n)? ');\n}\n\nconsole.log('Fim do programa');\n```\n\nE agora, pedimos a tarefa e adicionamos ao array.\n\n```js\nconst rl = require('readline-sync');\nconst tarefas = [];\n\nlet continuar = 's';\n\nwhile(continuar=='s') {\n        // Pedimos a tarefa\n        const tarefa = rl.question('Digite uma tarefa: ');\n        // Adicionamos ela ao array de tarefas\n        tarefas.push(tarefa);\n\n        continuar = rl.question('Continuar (s/n)? ');\n}\n\nconsole.log('Fim do programa');\n```\n\nAo final do programa, devemos criar um arquivo contendo todas as tarefas digitadas.\n\nPara isso, vamos iterar sobre o array, pegando elemento por elemento e adicionando elemento por elemento ao arquivo.\n\nVamos usar o pacote `fs` e o método `appendFileSync()`.\n\n```js\nconst rl = require('readline-sync');\nconst fs = require('fs');\n\nconst tarefas = [];\n\nlet continuar = 's';\n\nwhile(continuar=='s') {\n        // Pedimos a tarefa\n        const tarefa = rl.question('Digite uma tarefa: ');\n        // Adicionamos ela ao array de tarefas\n        tarefas.push(tarefa);\n\n        continuar = rl.question('Continuar (s/n)? ');\n}\n\n// Ao final do programa, iteramos sobre o array...\n\nfor (i=0; i<tarefas.length; i++) {\n    const tarefa = tarefas[i];\n    fs.appendFileSync('./tarefas.txt', `${tarefa}\\n`);\n}\n\nconsole.log('Fim do programa');\n```",
      "metadata": {}
    }
  ]
}