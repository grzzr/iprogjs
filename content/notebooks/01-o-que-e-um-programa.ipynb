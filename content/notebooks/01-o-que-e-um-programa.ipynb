{
   "cells": [
      {
         "cell_type": "markdown",
         "metadata": {},
         "source": [
            "# Como é um programa de computador?\n",
            "\n",
            "Neste primeiro projeto vamos escrever juntos o código de um programa que desenha uma paisagem na tela e vamos observar nele algumas características comuns a todos os programas."
         ]
      },
      {
         "cell_type": "markdown",
         "metadata": {},
         "source": [
            "Este projeto foi [retirado daqui](https://p5js.org/tutorials/get-started/) do site do [Processing para Javascript](https://p5js.org/) (p5js)\n",
            "\n",
            "Nós vamos escrever um programa que:\n",
            "\n",
            "- Cria uma tela e define sua cor e tamanho\n",
            "- Acrescenta cores, formas e texto à tela\n",
            "- Responde a comandos interativos simples dados com o ponteiro do mouse\n"
         ]
      },
      {
         "cell_type": "markdown",
         "metadata": {},
         "source": [
            "## Primeiro programa - criar uma tela"
         ]
      },
      {
         "cell_type": "markdown",
         "metadata": {},
         "source": [
            "O código abaixo cria uma tela (em inglês `canvas`) e define que ela terá 600 pixels de largura e 400 de altura.\n",
            "\n",
            "Clique na caixa abaixo (chamada de célula), com o trecho de código, e tecle `ctrl+ENTER` para executar o código."
         ]
      },
      {
         "cell_type": "code",
         "execution_count": null,
         "metadata": {
            "trusted": true
         },
         "outputs": [],
         "source": [
            "function setup() {\n",
            "  createCanvas(600, 400);\n",
            "}"
         ]
      },
      {
         "cell_type": "markdown",
         "metadata": {},
         "source": [
            "Agora, tecle `ctrl+ENTER` na célula abaixo para mostrar (`show`) o resultado do programa"
         ]
      },
      {
         "cell_type": "code",
         "execution_count": null,
         "metadata": {},
         "outputs": [],
         "source": [
            "%show"
         ]
      },
      {
         "cell_type": "markdown",
         "metadata": {},
         "source": [
            "Agora execute o código abaixo. Ele desenha o plano de fundo (`background`) na cor cinza."
         ]
      },
      {
         "cell_type": "code",
         "execution_count": null,
         "metadata": {},
         "outputs": [],
         "source": [
            "function draw() {\n",
            "  background(220);\n",
            "}"
         ]
      },
      {
         "cell_type": "markdown",
         "metadata": {},
         "source": [
            "Execute o `%show` de novo para ver o resultado."
         ]
      },
      {
         "cell_type": "code",
         "execution_count": null,
         "metadata": {},
         "outputs": [],
         "source": [
            "%show"
         ]
      },
      {
         "cell_type": "markdown",
         "metadata": {},
         "source": [
            "Podemos escrever as duas partes do programa juntas em um só trecho.\n"
         ]
      },
      {
         "cell_type": "code",
         "execution_count": null,
         "metadata": {},
         "outputs": [],
         "source": [
            "function setup() {  \n",
            "  createCanvas(600, 400);\n",
            "}\n",
            "\n",
            "function draw() {\n",
            "  background(220);\n",
            "}"
         ]
      },
      {
         "cell_type": "markdown",
         "metadata": {},
         "source": [
            "> Esses valores que estão escritos entre os parênteses são chamados de `parâmetros da função`. Eles são valores que precisamos dar para uma função para que ela possa realizar sua operação. Algumas não precisam de parâmetros para rodar, mas muitas sim."
         ]
      },
      {
         "cell_type": "markdown",
         "metadata": {},
         "source": [
            "### Experimento:\n",
            "\n",
            "Veja o que acontece se você mudar os valores no código acima (600, 400 e 220).\n",
            "\n",
            "Depois de mudar um valor, você precisa rodar o programa de novo (`ctrl+ENTER` dentro da célula e depois `ctrl+ENTER` novamente em um célula com a instrução `%show`)"
         ]
      },
      {
         "cell_type": "markdown",
         "metadata": {},
         "source": [
            "## O que o programa está fazendo?\n",
            "\n",
            "É mais fácil supor o que pode acontecer se entendermos inglês, porque as palavras usadas no programa (`function`, `setup`, `createCanvas`, `draw`, `background`) dão boas dicas sobre o que o programa faz.\n",
            "\n",
            "\n",
            "Resumidamente:\n",
            "\n",
            "O programa tem duas funções: `setup` e `draw`\n",
            "\n",
            "Uma função contém instruções para o computador. Ela é um trecho de programa que pode ser executado quando quisermos. \n",
            "\n",
            "A palavra `function` é usada para dizer que a palavra escrita após a ela será usada como nome de uma nova função. \n",
            "\n",
            "- `setup` contém instruções que preparam o programa para rodar\n",
            "- `draw` contém instruções para desenhar na tela\n",
            "\n",
            "- `createCanvas(600, 400)` - cria uma tela de desenho de 600 pixels de largura por 400 pixels de altura\n",
            "- `background(220)` - desenha o fundo da tela usando a cor 220, que é um cinza médio - as cores vão de 0 a 255 (do preto ao branco passando por tons de cinza)\n",
            "\n"
         ]
      },
      {
         "cell_type": "markdown",
         "metadata": {},
         "source": [
            "## Primeiras características de um programa\n",
            "\n",
            ">\n",
            "> - Uma programa é um texto\n",
            "> - Contém instruções para o computador realizar tarefas (criar coisas, desenhar, colorir, etc...)\n",
            "> - São usadas funções para agrupar conjuntos de instruções para o computador"
         ]
      },
      {
         "cell_type": "markdown",
         "metadata": {},
         "source": [
            "## Mudar a cor do fundo\n",
            "\n",
            "A função `background()` também pode pintar o fundo com 'qualquer' cor, não só com tons de cinza.\n",
            "\n",
            "Para isso usamos 3 valores para definir a cor.\n",
            "\n",
            "Execute as células abaixo para ver o fundo mudar para um ciano parecido com a cor do céu."
         ]
      },
      {
         "cell_type": "code",
         "execution_count": null,
         "metadata": {},
         "outputs": [],
         "source": [
            "function draw() {\n",
            "  background(135, 206, 235);\n",
            "}"
         ]
      },
      {
         "cell_type": "code",
         "execution_count": null,
         "metadata": {},
         "outputs": [],
         "source": [
            "%show"
         ]
      },
      {
         "cell_type": "markdown",
         "metadata": {},
         "source": [
            "### Cores RGB\n",
            "\n",
            "Os três valores que passamos como parâmetro para `background()` representam níveis diferentes de `Vermelho`, `Verde` e `Azul` que, quando compostos formam todas as cores que o monitor do computador consegue mostrar.\n",
            "\n",
            "- R, red = Vermelho\n",
            "- G, green = Verde\n",
            "- B, blue = Azul\n",
            "\n",
            "Cada ponto colorido na tela é formado pela combinação das três cores primárias, RGB.\n",
            "\n",
            "Cada cor tem um nível de <code>intensidade</code>, que pode ir do <code>0</code> (mais fraca, mais dessaturada) até <code>255</code> (mais forte, mais saturada)\n",
            "\n",
            "#### Exemplos\n",
            "\n",
            "- (R, G, B) ---> (255, 0, 0) - vermelho com intensidade máxima\n",
            "- (R, G, B) ---> (255, 0, 255) - magenta com intensidade máxima\n",
            "- (R, G, B) ---> (128, 0, 128) - magenta com intensidade média\n"
         ]
      },
      {
         "cell_type": "markdown",
         "metadata": {},
         "source": [
            "## Mais características de um programa\n",
            "\n",
            "- Uma mesma função pode receber quantidades diferentes de parâmetros (como background()) e assim fazer coisas diferentes (pintar em preto e branco ou pintar em cores, nesse caso)\n",
            "- Usamos números também para representar coisas, não apenas quantidades."
         ]
      },
      {
         "cell_type": "markdown",
         "metadata": {},
         "source": [
            "## Desenhar formas na tela\n",
            "\n",
            "No trecho abaixo vamos desenhar um sol na tela. Porém, não existe uma função que desenhe um sol!\n",
            "\n",
            "Da mesma forma que fizemos um 'céu' mudando a cor do fundo da tela (e chamando isso de céu) agora vamos usar outras funções para conseguir fazer um sol.\n",
            "\n",
            "Para desenhar um sol vamos ter que trabalhar com funções que realizam tarefas mais primárias e, criativamente, usá-las para realizar a tarefa complexa de desenhar o sol.\n",
            "\n",
            "> `complexa` porque a tarefa envolverá a composição de mais de uma função primária, não porque ela será mais 'complicada'.\n",
            "\n",
            "Começamos desenhando um círculo. Para isso, existe uma função chamada `circle()` que vai servir bem."
         ]
      },
      {
         "cell_type": "code",
         "execution_count": null,
         "metadata": {},
         "outputs": [],
         "source": [
            "function setup() {\n",
            "  // cria uma tela de 600x400 pixels\n",
            "  createCanvas(600, 400);\n",
            "}\n",
            "\n",
            "function draw() {\n",
            "  //fundo de céu azul\n",
            "  background(135, 206, 235);\n",
            "\n",
            "  //uma primeira versão de sol no canto superior direito\n",
            "  circle(550, 50, 100);\n",
            "}"
         ]
      },
      {
         "cell_type": "code",
         "execution_count": null,
         "metadata": {},
         "outputs": [],
         "source": [
            "%show"
         ]
      },
      {
         "cell_type": "markdown",
         "metadata": {},
         "source": [
            "### circle(x, y, tamanho)\n",
            "\n",
            "A função `circle()` precisa de 3 parâmetros\n",
            "\n",
            "- posição x do centro do círculo\n",
            "- posição y do centro do círculo\n",
            "- tamanho em pixels do circulo\n",
            "\n",
            "![diagrama dos valores dos parâmetros da função circle()](../img/circle-diagram.webp)\n",
            "\n"
         ]
      },
      {
         "cell_type": "markdown",
         "metadata": {},
         "source": [
            "## Sistema de coordenadas\n",
            "\n",
            "\n",
            "As coordenadas `(x,y)` que usamos são definidas assim:\n",
            "\n",
            "![sistema de coordenadas com origem no canto superior esquerdo](../img/coordinates.webp)\n",
            "\n",
            "\n",
            "- Origem (0,0) no canto superior direito\n",
            "- x [aumenta de valor](https://editor.p5js.org/Msqcoding/full/AM5ZwrmNo) da esquerda para a direita - \n",
            "- y [aumenta de valor](https://editor.p5js.org/Msqcoding/full/jZeTUjZfZ) de cima para baixo\n",
            "\n",
            "\n",
            "> Repare que `createCanvas(largura, altura)` define os valores máximos de `x` e `y`, pois são os mesmos que o valor da `largura` e `algura` da tela.\n",
            "\n",
            "\n"
         ]
      },
      {
         "cell_type": "markdown",
         "metadata": {},
         "source": [
            "## Uma solução criativa para o sol\n",
            "\n",
            "\n",
            "Ainda não temos o sol mas temos algo que se parece com ele. Falta a cor. \n",
            "\n",
            "\n",
            "Vamos usar três novas funções para fazer um sol:\n",
            "\n",
            "- fill() para pintar o sol de amarelo - `fill(\"yellow\")`\n",
            "- stroke() para mudar a cor do traçado da borda do círculo para laranja - `stroke(\"orange\")`\n",
            "- strokeWeight() para aumentar a espessura da borda, e fazer ela parecer com a coroa solar - `strokeWeight(20)`\n"
         ]
      },
      {
         "cell_type": "code",
         "execution_count": null,
         "metadata": {},
         "outputs": [],
         "source": [
            "function setup() {\n",
            "  // cria uma tela de 600x400 pixels\n",
            "  createCanvas(600, 400);\n",
            "}\n",
            "\n",
            "function draw() {\n",
            "  //fundo de céu azul\n",
            "  background(135, 206, 235);\n",
            "\n",
            "  //Segunda versão do sol\n",
            "\n",
            "  //mudamos o preenchimento para amarelo\n",
            "  fill(\"yellow\"); \n",
            "\n",
            "  //a cor do traço laranja\n",
            "  stroke(\"orange\"); \n",
            "\n",
            "  //a largura do traço 20 pixels \n",
            "  strokeWeight(20); \n",
            "\n",
            "  // Quando desenhamos o círculo, ele\n",
            "  // tem outras características\n",
            "  // e parece mais com um sol\n",
            "  circle(550, 50, 100);\n",
            "}"
         ]
      },
      {
         "cell_type": "code",
         "execution_count": null,
         "metadata": {},
         "outputs": [],
         "source": [
            "%show"
         ]
      },
      {
         "cell_type": "markdown",
         "metadata": {},
         "source": [
            "## Mais características de um programa\n",
            "\n",
            "Note que um programa são instruções que dizem ao computador quais operações ele deve realizar. Porém, note também que não existem instruções para realizar todas as coisas que queremos. É preciso criar operações mais complexas a partir de operações mais simples para conseguir novos resultados\n",
            "\n",
            "- Um programa é uma composição de instruções simples que formam instruções novas e mais complexas.\n",
            "\n",
            "\n"
         ]
      }
   ],
   "metadata": {
      "kernelspec": {
         "display_name": "p5.js",
         "language": "javascript",
         "name": "p5js"
      },
      "language_info": {
         "codemirror_mode": {
            "name": "javascript"
         },
         "file_extension": ".js",
         "mimetype": "text/javascript",
         "name": "p5js",
         "nbconvert_exporter": "javascript",
         "pygments_lexer": "javascript",
         "version": "es2017"
      }
   },
   "nbformat": 4,
   "nbformat_minor": 4
}
