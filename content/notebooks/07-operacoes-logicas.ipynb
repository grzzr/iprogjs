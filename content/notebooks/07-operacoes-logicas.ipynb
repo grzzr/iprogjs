{
  "metadata": {
    "kernelspec": {
      "name": "javascript",
      "display_name": "JavaScript (Web Worker)",
      "language": "javascript"
    },
    "language_info": {
      "codemirror_mode": {
        "name": "javascript"
      },
      "file_extension": ".js",
      "mimetype": "text/javascript",
      "name": "javascript",
      "nbconvert_exporter": "javascript",
      "pygments_lexer": "javascript",
      "version": "es2017"
    }
  },
  "nbformat_minor": 4,
  "nbformat": 4,
  "cells": [
    {
      "cell_type": "markdown",
      "source": "# Operadores lógicos\n\nOperadores lógicos são usados para escrever expressões que envolvem `operações com valores booleanos`. \n\nQualquer valor em javascript pode ser usado com um operador lógico, não apenas valores `true` ou `false`. Isso porque todos os valores podem ser convertidos em um valor booleano de modo a poderem ser usados com um operador lógico.",
      "metadata": {}
    },
    {
      "cell_type": "markdown",
      "source": "## Operador `||` - OU\n\nO operador `OU` avalia os operandos da esquerda para a direita. Cada operando é avaliado e convertido para Booleano. O primeiro operando que resultar em `true` tem **seu valor original** retornado pelo `||`. Caso todos os operandos sejam `false`, o valor do último operando é retornado.\n\n> `||` retorna o valor do primeiro operando que resultar em `true` ou o valor do último operando caso todos sejam `false`.\n\n```js\nx>0 || x<10\n/*o resultado é `true` se o valor de x é maior que 0 ou menor que 10 - lendo da esquerda para a direita, o que for encontrado primeiro.\n*/\n```",
      "metadata": {}
    },
    {
      "cell_type": "code",
      "source": "",
      "metadata": {
        "trusted": true
      },
      "outputs": [],
      "execution_count": null
    },
    {
      "cell_type": "code",
      "source": "let nome;\nnome || 0 || 'prof.'",
      "metadata": {
        "trusted": true
      },
      "outputs": [
        {
          "execution_count": 3,
          "output_type": "execute_result",
          "data": {
            "text/plain": "'prof.'"
          },
          "metadata": {}
        }
      ],
      "execution_count": 3
    },
    {
      "cell_type": "markdown",
      "source": "O resultado é false, porque:\n\n- o valor de ´nome´ é ´undefined´ e a equivalência de ´undefined´ é ´false´\n- 0 é equivalente a ´false´\n- 'prof.', assim como qualquer string não vazia, é equivalente a ´true´\n",
      "metadata": {}
    },
    {
      "cell_type": "code",
      "source": "let nome;\nnome || 0 || 'prof.'\nnome || 1 || 'prof.'",
      "metadata": {
        "trusted": true
      },
      "outputs": [
        {
          "execution_count": 4,
          "output_type": "execute_result",
          "data": {
            "text/plain": "1"
          },
          "metadata": {}
        }
      ],
      "execution_count": 4
    },
    {
      "cell_type": "markdown",
      "source": "O resultado é true, porque:\n\n- 1 é equivalente a ´true´\n\nNeste caso, o valor ´true´ retornado é este, não o valor ´true´ do operando seguinte (a string).\n\nA avaliação dos operandos é finalizada neste ponto.\n\nO primeiro operando que resultar em `true` tem **seu valor original** retornado pelo `||`.\n",
      "metadata": {}
    },
    {
      "cell_type": "code",
      "source": "let nome;\n0 || nome || 'prof.'",
      "metadata": {
        "trusted": true
      },
      "outputs": [],
      "execution_count": null
    },
    {
      "cell_type": "markdown",
      "source": "- 0 é ´false´\n- nome é ´undefined´\n- resultado é ´prof.´",
      "metadata": {}
    },
    {
      "cell_type": "code",
      "source": "nome = 'Gustavo'\n0 || nome || 'prof.'",
      "metadata": {
        "trusted": true
      },
      "outputs": [],
      "execution_count": null
    },
    {
      "cell_type": "markdown",
      "source": "- 0 é false\n- nome é uma string, que equivale a ´true´\n- resultado é ´Gustavo´\n- e o próximo operando não é avaliado",
      "metadata": {}
    },
    {
      "cell_type": "code",
      "source": "",
      "metadata": {
        "trusted": true
      },
      "outputs": [],
      "execution_count": null
    },
    {
      "cell_type": "markdown",
      "source": "### Exemplo:\n\nO programa abaixo usa três strings e escolhe a primeira string não vazia como sendo o nome pelo qual o usuário será chamado. Caso todas sejam vazias, adota `anônimo` como padrão.\n",
      "metadata": {}
    },
    {
      "cell_type": "code",
      "source": "let nome = ''\nlet sobrenome = ''\nlet apelido = ''\n\nlet usuario = nome || sobrenome || apelido || \"anônimo\";\n\nconsole.log(`Olá, ${usuario}`);",
      "metadata": {
        "trusted": true
      },
      "outputs": [],
      "execution_count": null
    },
    {
      "cell_type": "markdown",
      "source": "Repare que `\"anônimo\"` é o valor padrão porque ele é o último a ser avaliado e porque seu valor sempre é ´true´, por isso sempre será retornado caso todos os anteriores sejam ´false´.",
      "metadata": {}
    },
    {
      "cell_type": "markdown",
      "source": "## Operador `&&` - E\n\nO `&&` avalia os operandos da esquerda para a direita, convertendo cada operando em um valor booleano e retornando o valor original do primeiro operando que resultar em `false`. Se todos os operandos forem `true` o `&&` retorna o valor do último operando.\n\n> `&&` retorna o primeiro valor que for `false` ou o último caso todos sejam `true`.",
      "metadata": {}
    },
    {
      "cell_type": "code",
      "source": "",
      "metadata": {
        "trusted": true
      },
      "outputs": [],
      "execution_count": null
    },
    {
      "cell_type": "markdown",
      "source": "## Operador `!` - Não (negação lógica)\n\nO `!` inverte o valor de verdade de uma expressão - ele ´nega´ a expressão.\n\n```js\nlet nome;\n\n!nome // resultado é ´true´\n\n```",
      "metadata": {}
    },
    {
      "cell_type": "code",
      "source": "",
      "metadata": {
        "trusted": true
      },
      "outputs": [],
      "execution_count": null
    },
    {
      "cell_type": "markdown",
      "source": "### Exemplo:\n",
      "metadata": {}
    },
    {
      "cell_type": "code",
      "source": "const nome = ''\n\n// se *não* for informado um nome, imprime ´nome é obrigatório´\n!nome && console.log('nome é obrigatório');\n\n// se *foi* informado um nome, imprime ´Oi,´ + nome + '!!'\n!nome || console.log(`Oi, ${nome}!!`);\n\n",
      "metadata": {
        "trusted": true
      },
      "outputs": [
        {
          "name": "stdout",
          "text": "nome é obrigatório\n",
          "output_type": "stream"
        },
        {
          "execution_count": 7,
          "output_type": "execute_result",
          "data": {
            "text/plain": "true"
          },
          "metadata": {}
        }
      ],
      "execution_count": 7
    }
  ]
}