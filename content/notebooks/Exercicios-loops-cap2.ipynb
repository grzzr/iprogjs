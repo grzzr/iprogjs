{
  "metadata": {
    "kernelspec": {
      "name": "javascript",
      "display_name": "JavaScript (Web Worker)",
      "language": "javascript"
    },
    "language_info": {
      "codemirror_mode": {
        "name": "javascript"
      },
      "file_extension": ".js",
      "mimetype": "text/javascript",
      "name": "javascript",
      "nbconvert_exporter": "javascript",
      "pygments_lexer": "javascript",
      "version": "es2017"
    }
  },
  "nbformat_minor": 4,
  "nbformat": 4,
  "cells": [
    {
      "cell_type": "markdown",
      "source": "## Exercícios\nCada exercício começa com a descrição de um problema. Leia e tente resolvê-lo. Se você tiver dificuldades, considere a leitura das dicas abaixo do exercício.\n\n### Triângulo com Loop\n\nEscreva um programa que faça sete chamadas a `console.log()` para retornar o seguinte triângulo:\n\n\t#\n\t##\n\t###\n\t####\n\t#####\n\t######\n\t#######\n\n\n\n\n",
      "metadata": {}
    },
    {
      "cell_type": "markdown",
      "source": "**Dicas:**\n\nVocê vai precisar usar o valor do comprimento de uma string para resolver o exercício.\n\nUma maneira de saber o comprimento de uma `string` é escrevendo `.length` depois ela.\n\n```javascript\nlet abc = \"abc\";\nconsole.log(abc.length);\n// → 3\n```\n\nVocê pode começar com um programa que simplesmente imprime os números de 1 a 7, a partir do qual você pode derivar algumas modificações como no exemplo da impressão de números dado no início do capítulo 2, quando os loops foram introduzidos.\n\nDepois, repare na equivalência entre números e um `hash` em uma string de caracteres: \n\n- Você pode ir de 1 a 2 adicionando 1 (`+ = 1`)\n- Você pode ir de \"#\" a \"##\" adicionando um caractere (`+ = \"#\"`)\n\n   Assim, pode ser que a solução seja parecida com a do programa de impressão de números.",
      "metadata": {}
    },
    {
      "cell_type": "markdown",
      "source": "### FizzBuzz\n\nEscreva um programa que imprima usando `console.log()` todos os números de 1 a 100 com duas exceções. Para números divisíveis por 3, imprima `Fizz` ao invés do número, e para números divisíveis por 5 (e não 3), imprima `Buzz`.\n\nQuando o programa estiver funcionando, modifique-o para imprimir `FizzBuzz` para números que são divisíveis ambos por 3 e 5 (e continue imprimindo `Fizz` e `Buzz` para números divisíveis por apenas um deles).\n\n(Isto é na verdade uma pergunta de entrevista usada para eliminar uma porcentagem significativa de candidatos a programador. Então se você resolvê-la, você está autorizado de se sentir bem consigo mesmo).",
      "metadata": {}
    }
  ]
}