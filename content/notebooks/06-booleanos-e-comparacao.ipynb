{
  "metadata": {
    "kernelspec": {
      "name": "javascript",
      "display_name": "JavaScript (Web Worker)",
      "language": "javascript"
    },
    "language_info": {
      "codemirror_mode": {
        "name": "javascript"
      },
      "file_extension": ".js",
      "mimetype": "text/javascript",
      "name": "javascript",
      "nbconvert_exporter": "javascript",
      "pygments_lexer": "javascript",
      "version": "es2017"
    }
  },
  "nbformat_minor": 4,
  "nbformat": 4,
  "cells": [
    {
      "cell_type": "markdown",
      "source": "# Operadores de comparação\n\nOperadores de comparação são usados para escrever expressões que comparam dois valores e, ao serem avaliadas (calculadas), retornam os valores `true` (verdadeiro) ou `false` (falso).\n\n\n## Valores booleanos \n\nO `tipo de dado` dos valores `true` e `false`, que resultam de expressões lógicas, é chamado `Booleano`.\n\n> O nome *Booleano* deve-se ao matemático e filósofo inglês *George Boole*, que desenvolveu procedimentos aritméticos para calcular o valor de expressões lógicas dos quais *derivam* os procedimentos usados em linguagens de programação.\n\nO `resultado` de uma expressão lógica é chamado de *valor de verdade da expressão*.\n\n## Operadores\n    \nOperadores de comparação operam com qualquer objeto da linguagem javascript ao qual possamos associar uma variável (números, strings, funções, vetores...). \n\nO `resultado` dessa operação é um dos valores booleanos: `true` ou `false`.\n\n|operador   |operação   |exemplo    |resultado\n|--------   |--------   |-------    |---------\n|==         |igualdade  |'2' == 2   |`true`\n|===        |igualdade estrita| '2' === 2|`false`\n|!=         |difereça   |'2' != 1+1|`false`\n|!==        |diferença estrita|'2' !== 1+1|`true`\n|>          |maior que  |2+5 > 2      |`true`\n|<          |menor que  |'a' < 'b'    |`true`\n|>=         |maior ou igual|2 * 5 >=20|`false`\n|<=         |menor ou igual|2 * 5 <=20|`true`\n\n> **Igualdade e diferença estritas**: levam em conta o tipo do valor\n\n\n[Índice](README.md)",
      "metadata": {}
    },
    {
      "cell_type": "code",
      "source": "",
      "metadata": {
        "trusted": true
      },
      "outputs": [],
      "execution_count": null
    }
  ]
}