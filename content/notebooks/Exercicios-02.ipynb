{
  "metadata": {
    "kernelspec": {
      "name": "javascript",
      "display_name": "JavaScript (Web Worker)",
      "language": "javascript"
    },
    "language_info": {
      "codemirror_mode": {
        "name": "javascript"
      },
      "file_extension": ".js",
      "mimetype": "text/javascript",
      "name": "javascript",
      "nbconvert_exporter": "javascript",
      "pygments_lexer": "javascript",
      "version": "es2017"
    }
  },
  "nbformat_minor": 4,
  "nbformat": 4,
  "cells": [
    {
      "cell_type": "markdown",
      "source": "# Exercícios\n",
      "metadata": {}
    },
    {
      "cell_type": "markdown",
      "source": "## A vidente\n\n\nEscreva um programa que vê o seu futuro!\n\nGuarde os seguintes dados em variáveis\n\n    - nome do parceiro\n    - número de filhos\n    - localização geográfica\n    - profissão\n\nA saída do programa deve ser uma *string* com o seguinte formato:\n\n```\n\"Você será X em Y, casada com Z e com N filhos\"\n```\n    \n",
      "metadata": {}
    },
    {
      "cell_type": "code",
      "source": "",
      "metadata": {
        "trusted": true
      },
      "outputs": [],
      "execution_count": null
    },
    {
      "cell_type": "markdown",
      "source": "## Calculador de idade\n\nEscreva um programa que calcula os *2 possíveis valores*  da sua idade em um ano qualquer\n\n- Guarde seu ano de nascimento em uma variável\n- Guarde ano futuro qualquer em uma variável\n- Calcule as *2 possíveis idades*  que você tem ou terá naquele ano\n\n  Por exemplo, se você nasceu em 1988, em 2026 você terá 37 ou 38 anos, dependendo do mês de 2026. Não vamos levar em conta o mês.\n\nA saída do programa deve ser uma frase com o seguinte formato:\n\n```\nNo ano X você terá NN ou MM anos de idade\n```\n    \n",
      "metadata": {}
    },
    {
      "cell_type": "code",
      "source": "",
      "metadata": {
        "trusted": true
      },
      "outputs": [],
      "execution_count": null
    },
    {
      "cell_type": "markdown",
      "source": "## Estoque vitalício\n\nQuantos salgadinhos você vai comer até ficar velho? Quantas *Pastelinas*? Quantos *Cheetos*?\n\nEscreva um programa que calcule uma estimativa de qual deveria ser o estoque do seu salgadinho favorito para que ele dure até você vicar velho.\n\n- Guarde sua idade atual em uma variável\n- Guarde em uma variável o valor da idade que você terá quando estiver velho (estimativa sua)\n- Guarde o nome do salgadinho em uma variável\n- Guarde uma estimativa da quantidade diária que você consome do seu salgadinho favorito em uma variável\n- Calcule quantos você espera comer até ficar velho\n\nA saída do programa deve ser uma frase no formato:\n\n\"Você vai precisar de um estoque de XX unidades de YY para que eles durem até você ter ZZ anos de idade\"\n\n",
      "metadata": {}
    },
    {
      "cell_type": "code",
      "source": "",
      "metadata": {
        "trusted": true
      },
      "outputs": [],
      "execution_count": null
    },
    {
      "cell_type": "markdown",
      "source": "## A Vidente, ver2\n\n1. Escreva uma função chamada verFuturo que recebe 4 argumentos: número de filhos, nome do parceiro, localização geográfica, profissão\n\nA função deve **retornar** uma *string* (não imprima no console) que esteja no formato:\n\n```\n\"Você será X em Y, casada com Z e com N filhos\"\n```\n\n\n2. Chame a função 3 vezes passando 3 conjuntos diferentes de valores como argumentos e imprimindo no console as respostas.\n",
      "metadata": {}
    },
    {
      "cell_type": "code",
      "source": "",
      "metadata": {
        "trusted": true
      },
      "outputs": [],
      "execution_count": null
    },
    {
      "cell_type": "markdown",
      "source": "## Idade dos cachorros\n\nQuantos anos tem um cachorro? E quantos anos em \"idade de cachorro\"? Vamos calcular!\n\n1. Escreva uma função chamada *calcularIdadeDeCachorro* que:\n\n- recebe 1 argumento: a idade (em anos humanos) de um cachorro\n- calcula a idade do cachorro baseada na taxa de conversão de 1 ano humano para 7 anos de cachorro (Ex. se seu cachorro tem 2 anos, em idade de cachorro em tem 14 anos)\n\nA função deve retornar o valor calculado da idade do cachorro em \"anos de cachorro\".\n\n2. Chame a função 3 vezes passando uma idade diferente a cada vez imprimindo no console o resultado de cada chamada.\n\n3. Altere a função para que ela receba um segundo argumento representando a taxa de conversão de *anos humanos* para *anos de cachorro* e use ela para calcular a idade de cachorro em vez de usar o valor fixo 7.\n",
      "metadata": {}
    },
    {
      "cell_type": "code",
      "source": "",
      "metadata": {
        "trusted": true
      },
      "outputs": [],
      "execution_count": null
    },
    {
      "cell_type": "markdown",
      "source": "## Dr. Evil\n\nCrie uma função chamada *drEvil*. Ela receberá apenas um argumento, uma quantidade, e retornará uma *string* no formato *<quantidade> dólares*, com um porém: se a quantidade for 1 milhão (de dólares) a função vai retornar a *string* *<quantidade> de dólares (minguinho!)*\n\nExemplos:\n\n```\ndrEvil(10)\n    10 dólares\n\ndrEvil(1000000)\n    1000000 de dólares (minguinho!)\n```",
      "metadata": {}
    },
    {
      "cell_type": "code",
      "source": "",
      "metadata": {
        "trusted": true
      },
      "outputs": [],
      "execution_count": null
    },
    {
      "cell_type": "markdown",
      "source": "## Atribuir Conceito\n\nEscreva uma função chamada *atribuirConceito* que:\n\n- receba 1 argumento, a nota (0 a 100)\n- retorne um conceito em função da nota, que pode ser \"A\", \"B\", \"C\", \"D\" ou \"E\"\n\nChame essa função algumas vezes passando notas diversas e imprima no console a resposta de cada chamada para conferir se a função está funcionando como esperado.\n",
      "metadata": {}
    },
    {
      "cell_type": "code",
      "source": "",
      "metadata": {
        "trusted": true
      },
      "outputs": [],
      "execution_count": null
    },
    {
      "cell_type": "markdown",
      "source": "## Tradutor de 'bom dia'!\n\nEscreva uma função chamada *traduzBomDia* que:\n\n- recebe 1 argumento: o código de um idioma (ex. \"en\", \"pt\", \"es\", \"de\"...)\n- retorna \"Good morning!\", \"Bom dia!\", \"Buendía!/Buenos dias!\", \"Gutten tag!\", etc.. em função do código do idioma\n\nChame a função uma vez para cada código de idioma suportado e imprima no console as respostas para conferir que a função funciona.",
      "metadata": {}
    },
    {
      "cell_type": "code",
      "source": "",
      "metadata": {
        "trusted": true
      },
      "outputs": [],
      "execution_count": null
    },
    {
      "cell_type": "markdown",
      "source": "## É par ou é ímpar\n\nEscreva um *loop* que itera de 0 a 20. A cada iteração ele vai verificar se o número da iteração atual (a volta atual) é um número par ou ímpar. Se for par, ele deve escrever no console *\"n é par\"* e se for ímpar *\"n é ímpar\"*, onde *n* é o número da iteração atual.\n",
      "metadata": {}
    },
    {
      "cell_type": "code",
      "source": "",
      "metadata": {
        "trusted": true
      },
      "outputs": [],
      "execution_count": null
    },
    {
      "cell_type": "markdown",
      "source": "## Testador da função *atribuirConceito*\n\nEscreva um loop que chama a função *atribuirConceito* que você escreveu no exercício acima passando para ela, um de cada vez, todos os valores entre 60 e 100 e imprima no console cada resposta dada pela função.",
      "metadata": {}
    }
  ]
}