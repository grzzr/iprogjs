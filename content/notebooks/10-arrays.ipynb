{
  "metadata": {
    "kernelspec": {
      "name": "javascript",
      "display_name": "JavaScript (Web Worker)",
      "language": "javascript"
    },
    "language_info": {
      "codemirror_mode": {
        "name": "javascript"
      },
      "file_extension": ".js",
      "mimetype": "text/javascript",
      "name": "javascript",
      "nbconvert_exporter": "javascript",
      "pygments_lexer": "javascript",
      "version": "es2017"
    }
  },
  "nbformat_minor": 4,
  "nbformat": 4,
  "cells": [
    {
      "cell_type": "markdown",
      "source": "# Arrays\n\nArray é uma lista de valores.\n\nUsamos colchetes para escrever um array. Os valores vão entre os colchetes, separados por virgula e podem ser qualquer valor que o Javascript aceite: strings, numeros, booleanos e qualquer objeto e até mesmo outros arrays.\n\nExemplo:\n\n```js \nconst nomes = ['André','Julia','Aline','Marcelo','João','Leandro']\n```\n\nDamos nomes a arrays como damos nomes a outros valores como números, strings e funções.\n\n## Acesso por índice\n\nCada item no array está associado ao número de sua posição, chamado de índice\n\n```\n['André','Julia','Aline','Marcelo','João','Leandro']\n    0       1       2        3        4       5\n```\n\n\n\nPodemos acessar os valores que estão no array usando o número do índice.\n\n```js\n// Acessamos o valor que está na posição 0\nlet umNome = nomes[0]\n\n// A linha abaixo imprime 'André'\nconsole.log(umNome)\n```\n\nPodemos alterar o valor que está em uma determinada posição do array se soubermos seu índice.\n\n```js\n// Mudamos o valor que está na posição 1\nnomes[1] = 'Natália'\n\n// Atribuimos o valor da posição 1 a umNome\numNome = nomes[1]\n\n// A linha abaixo imprime 'Natália'\nconsole.log(umNome)\n```\n\n## Arrays como valores\n\nArrays podem ser usados em qualquer lugar onde usaríamos outro valor no Javascript. Por exemplo, para atribuí-los a uma variável ou como parâmetros para funções.\n\nPor exemplo, esta é uma função que mostra o primeiro valor de um array que ela recebe como parâmetro.\n\n```js\nconst mostraPrimeiro = function(umaLista) {\n    console.log(umaLista[0])\n}\n```\n\nSe definirmos um array qualquer, podemos pedir para a função mostrar o primeiro valor do array.\n\nPara isso passamos o array como parâmetro para a função e, no corpo dela, a função acessa os valores do array.\n\n```js\nconst frutas = ['amora', 'abacaxi', 'uva']\n\n\nmostraPrimeiro(frutas)\n```\n\nO resultado deve ser...\n\n```\namora\n```\n\n...impresso no console\n\n## Métodos úteis\n\nExistem muitos métodos úteis prontos para usar com arrays\n\n### array.includes(valor)\n\nResponde se o array inclui ou não o valor - retorna `true` ou `false` \n\n### array.indexOf(valor)\n\nRetorna o número do índice do valor dentro do array - retorn -1 caso não encontre\n\n### array.reverse()\n\nInverte a ordem dos elementos do array\n\n### array.join(separador)\n\nRetorna uma string contendo a concatenação de todos os elementos do array. Opcionalmente podemos passar como parâmetro o caracterer que será usado como separados dos ítens. Por exemplo, uma vírgula `array.join(',')` retornará uma string com todos os elementos separados por vírgula.\n\n### array.push(valor)\n\nAdiciona valor na última posição do array\n\n### array.pop()\n\nRetorna o valor que ocupa a última posição no array e o remove\n\n### array.shift()\n\nRetorna o valor que está na primeira posição do array e o remove\n\n## Iterando sobre um Array\n\nIterar sobre um array é percorrer o array inteiro, passando elemento por elemento. Normalmente executamos alguma operação com cada elemento\n\nA operação que executamos costuma ser definida em uma função. Essa função deve estar pronta para receber um elemento do array de cada vez e executar uma operação usando esse elemento.\n\n\n### array.forEach(função)\n\nUm método usado para percorrer o array é o `.forEach()`.\n\n`forEach()` recebe como parâmetro uma função e passa elemento por elemento do array, chamando a função uma vez para cada elemento. É o próprio `.forEach()` passa o valor do elemento correto para a função.\n\nNo exemplo abaixo temos uma array de nomes e uma função que recebe uma string.\n\n```js\nconst nomes = ['André','Julia','Aline','Marcelo','João','Leandro']\n\nconst dizOi = function (nome) {\n    console.log(`Oi, ${nome}`)\n}\n\nnomes.forEach(dizOi)\n```\n\nPassamos a função `dizOi()` como parâmetro para o `forEach()`. Repare como não usamos parânteses após o nome da função.\n\n> `Atenção` Se colocássemos parênteses após o nome da função ela seria executada e seu valor de retorno é que seria passado como parâmetro para o `forEach()`\n",
      "metadata": {}
    }
  ]
}