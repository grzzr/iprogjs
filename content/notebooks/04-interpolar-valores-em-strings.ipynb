{
  "metadata": {
    "kernelspec": {
      "name": "javascript",
      "display_name": "JavaScript (Web Worker)",
      "language": "javascript"
    },
    "language_info": {
      "codemirror_mode": {
        "name": "javascript"
      },
      "file_extension": ".js",
      "mimetype": "text/javascript",
      "name": "javascript",
      "nbconvert_exporter": "javascript",
      "pygments_lexer": "javascript",
      "version": "es2017"
    }
  },
  "nbformat_minor": 4,
  "nbformat": 4,
  "cells": [
    {
      "cell_type": "markdown",
      "source": "# Strings com várias linhas e formatação",
      "metadata": {}
    },
    {
      "cell_type": "code",
      "source": "console.log('SEJA O QUE FOR')\nconsole.log('QUE SEJA O QUE')\nconsole.log('FOR QUE SEJA O')\nconsole.log('QUE FOR QUE SEJA')\nconsole.log('O QUE FOR QUE')\nconsole.log('SEJA O QUE FOR')\nconsole.log()\nconsole.log('Arnaldo Antunes')\n",
      "metadata": {
        "trusted": true
      },
      "outputs": [
        {
          "name": "stdout",
          "text": "SEJA O QUE FOR\nQUE SEJA O QUE\nFOR QUE SEJA O\nQUE FOR QUE SEJA\nO QUE FOR QUE\nSEJA O QUE FOR\n\nArnaldo Antunes\n",
          "output_type": "stream"
        },
        {
          "execution_count": 1,
          "output_type": "execute_result",
          "data": {},
          "metadata": {}
        }
      ],
      "execution_count": 1
    },
    {
      "cell_type": "code",
      "source": "// String com várias linhas\n\n`Texto da string\ncom várias\nlinhas\n`\n",
      "metadata": {
        "trusted": true
      },
      "outputs": [
        {
          "execution_count": 2,
          "output_type": "execute_result",
          "data": {
            "text/plain": "'Texto da string\\ncom várias\\nlinhas\\n'"
          },
          "metadata": {}
        }
      ],
      "execution_count": 2
    },
    {
      "cell_type": "code",
      "source": "console.log(`\nSEJA O QUE FOR\nQUE SEJA O QUE\nFOR QUE SEJA O\nQUE FOR QUE SEJA\nO QUE FOR QUE\nSEJA O QUE FOR\n\nArnaldo Antunes\n`)",
      "metadata": {
        "trusted": true
      },
      "outputs": [
        {
          "name": "stdout",
          "text": "\nSEJA O QUE FOR\nQUE SEJA O QUE\nFOR QUE SEJA O\nQUE FOR QUE SEJA\nO QUE FOR QUE\nSEJA O QUE FOR\n\nArnaldo Antunes\n\n",
          "output_type": "stream"
        },
        {
          "execution_count": 8,
          "output_type": "execute_result",
          "data": {},
          "metadata": {}
        }
      ],
      "execution_count": 8
    },
    {
      "cell_type": "markdown",
      "source": "## Interpolação de valores em Strings (Templates)",
      "metadata": {}
    },
    {
      "cell_type": "code",
      "source": "`O resultado de 2 + 2 é... ${2+2} ` ",
      "metadata": {
        "trusted": true,
        "collapsed": true,
        "jupyter": {
          "outputs_hidden": true
        }
      },
      "outputs": [
        {
          "execution_count": 10,
          "output_type": "execute_result",
          "data": {
            "text/plain": "'O resultado de 2 + 2 é... 4 '"
          },
          "metadata": {}
        }
      ],
      "execution_count": 10
    },
    {
      "cell_type": "code",
      "source": "`O valor ${2 + 2} é o resultado de 2+2`",
      "metadata": {
        "trusted": true
      },
      "outputs": [
        {
          "execution_count": 14,
          "output_type": "execute_result",
          "data": {
            "text/plain": "'O valor 4 é o resultado de 2+2'"
          },
          "metadata": {}
        }
      ],
      "execution_count": 14
    },
    {
      "cell_type": "code",
      "source": "console.log(\n`\nTabuada do 3\n------------\n3x1 = ${3*1}    3x6 = ${3*6}\n3x2 = ${3*2}    3x7 = ${3*7}\n3x3 = ${3*3}    3x8 = ${3*8}\n3x4 = ${3*4}    3x9 = ${3*9}\n3x5 = ${3*5}    3x10 = ${3*10}\n`\n)",
      "metadata": {
        "trusted": true,
        "collapsed": true,
        "jupyter": {
          "outputs_hidden": true
        }
      },
      "outputs": [
        {
          "name": "stdout",
          "text": "\nTabuada do 3\n------------\n3x1 = 3    3x6 = 18\n3x2 = 6    3x7 = 21\n3x3 = 9    3x8 = 24\n3x4 = 12    3x9 = 27\n3x5 = 15    3x10 = 30\n\n",
          "output_type": "stream"
        },
        {
          "execution_count": 15,
          "output_type": "execute_result",
          "data": {},
          "metadata": {}
        }
      ],
      "execution_count": 15
    },
    {
      "cell_type": "markdown",
      "source": "## Exemplo usando variáveis",
      "metadata": {}
    },
    {
      "cell_type": "code",
      "source": "let numero = 621\nconsole.log(\n`\nTabuada do ${numero}\n------------\n3x1 = ${numero*1}    3x6 = ${numero*6}\n3x2 = ${numero*2}    3x7 = ${numero*7}\n3x3 = ${numero*3}    3x8 = ${numero*8}\n3x4 = ${numero*4}    3x9 = ${numero*9}\n3x5 = ${numero*5}    3x10 = ${numero*10}\n`\n)",
      "metadata": {
        "trusted": true
      },
      "outputs": [
        {
          "name": "stdout",
          "text": "\nTabuada do 621\n------------\n3x1 = 621    3x6 = 3726\n3x2 = 1242    3x7 = 4347\n3x3 = 1863    3x8 = 4968\n3x4 = 2484    3x9 = 5589\n3x5 = 3105    3x10 = 6210\n\n",
          "output_type": "stream"
        },
        {
          "execution_count": 19,
          "output_type": "execute_result",
          "data": {},
          "metadata": {}
        }
      ],
      "execution_count": 19
    },
    {
      "cell_type": "code",
      "source": "console.log(\n`Operações de adição:\n${2 + 2}\n${4 + 1.5}\n${'ab' + 'cd'}\n${'ab' + 2}\n\nOperações de subtração:\n${2 - 2}\n${4 - 1.5}\n${'ab' - 'cd'}\n${'ab' - 2}\n`\n)\n",
      "metadata": {
        "trusted": true,
        "collapsed": true,
        "jupyter": {
          "outputs_hidden": true
        }
      },
      "outputs": [
        {
          "name": "stdout",
          "text": "Operações de adição:\n4\n5.5\nabcd\nab2\n\nOperações de subtração:\n0\n2.5\nNaN\nNaN\n\n",
          "output_type": "stream"
        },
        {
          "execution_count": 20,
          "output_type": "execute_result",
          "data": {},
          "metadata": {}
        }
      ],
      "execution_count": 20
    },
    {
      "cell_type": "code",
      "source": "console.log(\n`Operações de adição:\n\n2 + 2       = ${2 + 2}\n4 + 1.5     = ${4 + 1.5}\n'ab' + 'cd' = ${'ab' + 'cd'}\n'ab' + 2    = ${'ab' + 2}\n\nOperações de subtração:\n\n2 - 2       = ${2 - 2}\n4 - 1.5     = ${4 - 1.5}\n'ab' - 'cd' = ${'ab' - 'cd'}\n'ab' - 2    = ${'ab' - 2}\n`\n)",
      "metadata": {
        "trusted": true
      },
      "outputs": [
        {
          "name": "stdout",
          "text": "Operações de adição:\n\n2 + 2       = 4\n4 + 1.5     = 5.5\n'ab' + 'cd' = abcd\n'ab' + 2    = ab2\n\nOperações de subtração:\n\n2 - 2       = 0\n4 - 1.5     = 2.5\n'ab' - 'cd' = NaN\n'ab' - 2    = NaN\n\n",
          "output_type": "stream"
        },
        {
          "execution_count": 21,
          "output_type": "execute_result",
          "data": {},
          "metadata": {}
        }
      ],
      "execution_count": 21
    }
  ]
}