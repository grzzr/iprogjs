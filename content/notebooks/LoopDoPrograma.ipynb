{
  "metadata": {
    "kernelspec": {
      "name": "javascript",
      "display_name": "JavaScript (Web Worker)",
      "language": "javascript"
    },
    "language_info": {
      "codemirror_mode": {
        "name": "javascript"
      },
      "file_extension": ".js",
      "mimetype": "text/javascript",
      "name": "javascript",
      "nbconvert_exporter": "javascript",
      "pygments_lexer": "javascript",
      "version": "es2017"
    }
  },
  "nbformat_minor": 4,
  "nbformat": 4,
  "cells": [
    {
      "cell_type": "markdown",
      "source": "# Loop do programa\n\nExemplo de loop de tratamento de comandos entrados via teclado/console.\n\n",
      "metadata": {}
    },
    {
      "cell_type": "code",
      "source": "const entrada = require('readline-sync')\nlet comando = ''\n// 's' é o comando para Sair do Programa\nwhile(comando != 's') {\n    // a cada iteração do programa, recebemos um novo comando do usuário\n    comando = entrada.question(\"digite comando: \")\n\n    // agora precisamos 'tratar' o comando, i.e. decidir o que fazer\n    // em função de cada comando dado\n\n    if(comando == 's') {\n        // se o comando for [s]air\n        // rompemos o loop com a instrução break;\n        break;\n    } else if(comando == 'a') {\n        console.info(\"executando operação A\")\n    } else if(comando == 'b') {\n        console.info(\"executando operação B\")\n    } else {\n        console.info(\"comando desconhecido\")\n    }\n}\n\nconsole.info(\"Fim do Programa\")",
      "metadata": {
        "trusted": true
      },
      "outputs": [],
      "execution_count": null
    },
    {
      "cell_type": "markdown",
      "source": "## Adicionar funcionalidades\n\nAgora vamos adicionar funções ao nosso programa e usar o tratador de comandos acima para executar essas diversas funções. \n\nEsse tratador de comando agora virou um \"Controlador\" do nosso programa. Ele recebe comandos do usuário e delega a tarefa de executá-los a diferentes partes do programa. Assim podemos ter programas mais complexos, que executam diversas operações.\n",
      "metadata": {}
    },
    {
      "cell_type": "code",
      "source": "",
      "metadata": {
        "trusted": true
      },
      "outputs": [],
      "execution_count": null
    }
  ]
}