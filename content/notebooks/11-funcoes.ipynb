{
  "metadata": {
    "kernelspec": {
      "name": "javascript",
      "display_name": "JavaScript (Web Worker)",
      "language": "javascript"
    },
    "language_info": {
      "codemirror_mode": {
        "name": "javascript"
      },
      "file_extension": ".js",
      "mimetype": "text/javascript",
      "name": "javascript",
      "nbconvert_exporter": "javascript",
      "pygments_lexer": "javascript",
      "version": "es2017"
    }
  },
  "nbformat_minor": 4,
  "nbformat": 4,
  "cells": [
    {
      "cell_type": "markdown",
      "source": "# ![Robô](../img/robof-64px.png) Funções em Javascript\n\nFunções são blocos de código que podem ser executados quando chamados (também se diz, 'invocar' ou simplesmente rodar).\n\nFunções servem para abstrair operações, organizar e reutilizar código.\n\nFunções costumam estar associadas a um nome, mas não sempre.\n\n\n## Criando uma função\n\nNo código abaixo:\n\n1. criamos uma função\n2. associamos ela ao nome `perfil`\n3. chamamos a função usando o nome\n\n```js\nconst perfil = function() {\n    console.log('Nome: Gustavo')\n    console.log('Email: gus@scrs.com.br')    \n    console.log('Msg: Oi, oi, oi!!!')\n}\n\nperfil()\n\n```",
      "metadata": {}
    },
    {
      "cell_type": "code",
      "source": "const perfil = function() {\n    console.log('Nome: Gustavo')\n    console.log('Email: gus@scrs.com.br')    \n    console.log('Msg: Oi, oi, oi!!!')\n}\n\nperfil()",
      "metadata": {
        "trusted": true
      },
      "outputs": [],
      "execution_count": null
    },
    {
      "cell_type": "markdown",
      "source": "Note que o código da função só será executado quando chamarmos a função. No exemplo, chamamos a função na última linha do programa.\n\n```js\nperfil()\n```\n\nTodo o código anterior à chamada `perfil()` serviu apenas para **declarar a função**, ou seja, para criar a função **perfil()**.\n\n\n### Parâmetros\nFunções podem receber parâmetros.\n\n```js\nconst perfil = function(msg) {\n    console.log('Nome: Gustavo')\n    console.log('Email: gus@scrs.com.br')    \n    console.log(`Msg: ${msg}`)\n}\n\nperfil('Olá!')\n\n```\n",
      "metadata": {}
    },
    {
      "cell_type": "code",
      "source": "const perfil = function(msg) {\n    console.log('Nome: Gustavo')\n    console.log('Email: gus@scrs.com.br')    \n    console.log(`Msg: ${msg}`)\n}\n\nperfil('Olá!')",
      "metadata": {
        "trusted": true
      },
      "outputs": [],
      "execution_count": null
    },
    {
      "cell_type": "markdown",
      "source": "\n`msg` entre os parênteses da função é uma declaração de variável.\n\nO valor de `msg` será definido por quem chamar a função. Isso é o que fazemos na última linha do programa.\n\n```js\nperfil('Olá!')\n```\n\nA string `'Olá!'` é o valor que estamos passando para a função, que será associado ao nome `msg` pela função e estará disponível através dele para usarmos ele no corpo da função. Foi o que fizemos na última linha da função, em: \n\n```js\nconsole.log(`Msg: ${msg}`)\n```\n\nNessa linha, o valor de `msg` é a string `'Olá!'` que foi passada como parâmetro quando chamamos a função `perfil()`.\n\n### Retorno da função\n\nNormalmente funções retornam um resultado para quem as chamou. \n\nAté aqui, nos exemplos, nenhum resultado foi retornado. Existe uma diferença entre `resultado` e `efeito colateral`. \n\n- `resultado` é um valor retornado pela função\n- `efeito colateral` é algo que a função causa no programa ou sistema e que tem por efeito alterar o estado do sistema (por exemplo, *mudar* o que aparece na tela, como quando usamos `console.log()`).\n\nPara retornar um valor, usamos `return` dentro do bloco de código da função sequido do valor a ser retornado.\n\n```js\nconst perfil = function(msg) {\n    return (\n         'Nome: Gustavo\\n'\n        +'Email: gus@scrs.com.br\\n'\n        +`Msg: ${msg}\\n`\n    )\n}\n\nconsole.log(perfil('Olá! Olá!'))\n```\n\n",
      "metadata": {}
    },
    {
      "cell_type": "code",
      "source": "const perfil = function(msg) {\n    return (\n         'Nome: Gustavo\\n'\n        +'Email: gus@scrs.com.br\\n'\n        +`Msg: ${msg}\\n`\n    )\n}\n\nconsole.log(perfil('Olá! Olá!'))",
      "metadata": {
        "trusted": true
      },
      "outputs": [],
      "execution_count": null
    },
    {
      "cell_type": "markdown",
      "source": "Nesse exemplo a função `retorna uma string` que é a concatenação de 3 strings seguidas de um `\\n` (caracter que representa uma quebra de linha).\n\nNote que na última linha, quando chamamos a função `console.log()`, desta vez estamos passando como parâmetro o `resultado da função perfil()`\n\n## ![Mago](../img/mago-64px.png) Abstraindo operações e reutilizando código\n\nPodemos passar vários parâmetros para uma função. Vamos usar isso para deixar a função `perfil()` mais genérica, de modo que ela funciona para qualquer nome, email e mensagem.\n\n```js\nconst perfil = function(nome, email, msg) {\n    return (\n         `Nome: ${nome}\\n`\n        +`Email: ${email}\\n`\n        +`Msg: ${msg}\\n`\n    )\n}\n\nconsole.log(perfil('Gustavo', 'gus@scrs.com.br','Olá! Olá!'))\nconsole.log(perfil('Prof', 'profgus@scrs.com.br','Oi, turma!'))\nconsole.log(perfil('Prof. G.', 'pgus@scrs.com.br','Oi!'))\n```\n\n",
      "metadata": {}
    },
    {
      "cell_type": "code",
      "source": "const perfil = function(nome, email, msg) {\n    return (\n         `Nome: ${nome}\\n`\n        +`Email: ${email}\\n`\n        +`Msg: ${msg}\\n`\n    )\n}\n\nconsole.log(perfil('Gustavo', 'gus@scrs.com.br','Olá! Olá!'))\nconsole.log(perfil('Prof', 'profgus@scrs.com.br','Oi, turma!'))\nconsole.log(perfil('Prof. G.', 'pgus@scrs.com.br','Oi!'))",
      "metadata": {
        "trusted": true
      },
      "outputs": [],
      "execution_count": null
    },
    {
      "cell_type": "markdown",
      "source": "Agora passamos `3 parâmetros` para a função `perfil()`. Com essas informações a função consegue escrever a ficha de perfil qualquer um e fica `fácil reutilizar o código` em outras situações em que o nome e email sejam diferentes. ",
      "metadata": {}
    },
    {
      "cell_type": "code",
      "source": "",
      "metadata": {
        "trusted": true
      },
      "outputs": [],
      "execution_count": null
    }
  ]
}